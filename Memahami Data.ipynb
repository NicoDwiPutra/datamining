{
 "cells": [
  {
   "cell_type": "markdown",
   "metadata": {
    "cell_id": "236a2eb5aefd4198b4c599b123d1b38e",
    "deepnote_app_block_visible": false,
    "deepnote_cell_type": "text-cell-h1",
    "formattedRanges": [
     {
      "fromCodePoint": 0,
      "marks": {
       "bold": true
      },
      "toCodePoint": 14,
      "type": "marks"
     }
    ],
    "is_collapsed": false
   },
   "source": [
    "# Memahami Data:"
   ]
  },
  {
   "cell_type": "markdown",
   "metadata": {
    "cell_id": "c3fd354733cc44539e950ec4cde5a888",
    "deepnote_app_block_visible": false,
    "deepnote_cell_type": "text-cell-h2",
    "formattedRanges": [],
    "is_collapsed": false
   },
   "source": [
    "## Deskripsi data  "
   ]
  },
  {
   "cell_type": "markdown",
   "metadata": {
    "cell_id": "4f022fe1c5de4b0c80ba5a8dc13b35a0",
    "deepnote_app_block_visible": false,
    "deepnote_cell_type": "text-cell-p",
    "formattedRanges": [],
    "is_collapsed": false
   },
   "source": [
    "Data merupakan bahan mentah yang dianalisis untuk menemukan pola, hubungan, atau wawasan yang berguna dan bermanfaat"
   ]
  },
  {
   "cell_type": "markdown",
   "metadata": {
    "cell_id": "bd0b89f2f99f4202bcab59e760389926",
    "deepnote_app_block_visible": false,
    "deepnote_cell_type": "text-cell-p",
    "formattedRanges": [],
    "is_collapsed": false
   },
   "source": [
    "\n",
    "Dataset Iris adalah salah satu dataset yang paling terkenal dalam bidang ilmu data dan pembelajaran mesin. Dataset Iris terdiri dari 150 sampel dari tiga spesies Iris (Iris setosa, Iris virginica, dan Iris versicolor), masing-masing dengan empat fitur (panjang dan lebar kelopak dan mahkota) dalam sentimeter."
   ]
  },
  {
   "cell_type": "markdown",
   "metadata": {
    "cell_id": "f7ad68563761456a955cd9ddde3db314",
    "deepnote_app_block_visible": false,
    "deepnote_cell_type": "text-cell-p",
    "formattedRanges": [],
    "is_collapsed": false
   },
   "source": [
    "Karena ukurannya yang kecil dan fiturnya yang jelas, dataset Iris sering digunakan sebagai contoh awal dalam mempelajari berbagai teknik analisis data dan pembelajaran mesin."
   ]
  },
  {
   "cell_type": "markdown",
   "metadata": {
    "cell_id": "ecb75ffca6834bf29f93d8ed27217dcf",
    "deepnote_cell_type": "markdown"
   },
   "source": [
    "## Struktur "
   ]
  },
  {
   "cell_type": "markdown",
   "metadata": {
    "cell_id": "4bd051f2439742a699a24f973f15e91b",
    "deepnote_cell_type": "markdown"
   },
   "source": [
    "kode di bawah untuk menghubungkan ke database dengan python"
   ]
  },
  {
   "cell_type": "code",
   "execution_count": 17,
   "metadata": {
    "cell_id": "ca21092ed07f49c5ad7bfa6fc7bb380d",
    "deepnote_cell_type": "code",
    "deepnote_to_be_reexecuted": false,
    "execution_millis": 3144,
    "execution_start": 1711580128186,
    "source_hash": "f7d37ed1"
   },
   "outputs": [
    {
     "name": "stdout",
     "output_type": "stream",
     "text": [
      "Requirement already satisfied: mysql-connector-python in /root/venv/lib/python3.9/site-packages (8.3.0)\n",
      "\n",
      "\u001b[1m[\u001b[0m\u001b[34;49mnotice\u001b[0m\u001b[1;39;49m]\u001b[0m\u001b[39;49m A new release of pip is available: \u001b[0m\u001b[31;49m23.0.1\u001b[0m\u001b[39;49m -> \u001b[0m\u001b[32;49m24.0\u001b[0m\n",
      "\u001b[1m[\u001b[0m\u001b[34;49mnotice\u001b[0m\u001b[1;39;49m]\u001b[0m\u001b[39;49m To update, run: \u001b[0m\u001b[32;49mpip install --upgrade pip\u001b[0m\n"
     ]
    }
   ],
   "source": [
    "!pip install mysql-connector-python"
   ]
  },
  {
   "cell_type": "code",
   "execution_count": 3,
   "metadata": {
    "cell_id": "523426ac696c464a8074f0d5544e9e66",
    "deepnote_cell_type": "code",
    "deepnote_to_be_reexecuted": false,
    "execution_millis": 5133,
    "execution_start": 1711579747843,
    "source_hash": "4e96ce5"
   },
   "outputs": [],
   "source": [
    "from sqlalchemy import create_engine\n",
    "import pandas as pd\n",
    "\n",
    "# Informasi koneksi ke database MySQL di cloud Aiven\n",
    "hostname = 'mysql-b8e8705-nico22101.a.aivencloud.com'\n",
    "port = 15404\n",
    "username = 'avnadmin'\n",
    "password = 'AVNS_1WxvRGymUGjuW0Z29gd'\n",
    "database = 'defaultdb'\n",
    "\n",
    "# Membuat string koneksi SQLAlchemy\n",
    "connection_string = f'mysql+mysqlconnector://{username}:{password}@{hostname}:{port}/{database}'\n",
    "\n",
    "# Membuat engine SQLAlchemy\n",
    "engine = create_engine(connection_string)\n",
    "\n",
    "# Membaca data dari database menggunakan Pandas\n",
    "query = \"SELECT * FROM `iriscopy`\"  \n",
    "dataset = pd.read_sql(query, engine)\n",
    "\n",
    "# Menutup koneksi ke database\n",
    "engine.dispose()\n"
   ]
  },
  {
   "cell_type": "code",
   "execution_count": 4,
   "metadata": {
    "cell_id": "e7c31f1cabb94bec98cb47d42238470a",
    "deepnote_cell_type": "code",
    "deepnote_to_be_reexecuted": false,
    "execution_millis": 83,
    "execution_start": 1711579755838,
    "source_hash": "208f473"
   },
   "outputs": [
    {
     "data": {
      "text/plain": [
       "Index(['id', 'sepal_length', 'sepal_width', 'petal_length', 'petal_width',\n",
       "       'class'],\n",
       "      dtype='object')"
      ]
     },
     "execution_count": 4,
     "metadata": {},
     "output_type": "execute_result"
    }
   ],
   "source": [
    "dataset.columns "
   ]
  },
  {
   "cell_type": "code",
   "execution_count": 5,
   "metadata": {
    "cell_id": "16ab8848399e4940b0354dd48cd41aa7",
    "deepnote_cell_type": "code",
    "deepnote_to_be_reexecuted": false,
    "execution_millis": 34,
    "execution_start": 1711579760459,
    "source_hash": "3f5ac41c"
   },
   "outputs": [
    {
     "data": {
      "text/plain": [
       "id                int64\n",
       "sepal_length    float64\n",
       "sepal_width     float64\n",
       "petal_length    float64\n",
       "petal_width     float64\n",
       "class            object\n",
       "dtype: object"
      ]
     },
     "execution_count": 5,
     "metadata": {},
     "output_type": "execute_result"
    }
   ],
   "source": [
    "dataset.dtypes #untuk mengetahui tipe data tiap kolom"
   ]
  },
  {
   "cell_type": "code",
   "execution_count": null,
   "metadata": {
    "cell_id": "f922cef52b6547cd92968bda8a2e0b8f",
    "deepnote_cell_type": "code",
    "deepnote_to_be_reexecuted": false,
    "execution_millis": 72,
    "execution_start": 1711561054735,
    "source_hash": null
   },
   "outputs": [
    {
     "data": {
      "text/plain": [
       "(150, 6)"
      ]
     },
     "execution_count": 5,
     "metadata": {},
     "output_type": "execute_result"
    }
   ],
   "source": [
    "dataset.shape #untuk mengetahui jumlah baris dan kolom"
   ]
  },
  {
   "cell_type": "markdown",
   "metadata": {
    "cell_id": "0ee3beb38a6d4c948064dac7abc0957c",
    "deepnote_app_block_visible": false,
    "deepnote_cell_type": "text-cell-h2",
    "formattedRanges": [],
    "is_collapsed": false
   },
   "source": [
    "## Fitur"
   ]
  },
  {
   "cell_type": "markdown",
   "metadata": {
    "cell_id": "d9d51123c5af4b28ae1c1b327b07ec83",
    "deepnote_cell_type": "text-cell-p",
    "formattedRanges": []
   },
   "source": [
    "Fitur seperti sepal_length, sepal_width, petal_length, dan petal_width dalam dataset Iris digunakan untuk menggambarkan karakteristik dari bunga iris"
   ]
  },
  {
   "cell_type": "markdown",
   "metadata": {
    "cell_id": "ff8d51a1abd340c9a7c7e8f728d36f27",
    "deepnote_cell_type": "text-cell-p",
    "formattedRanges": [
     {
      "fromCodePoint": 0,
      "marks": {
       "bold": true
      },
      "toCodePoint": 12,
      "type": "marks"
     },
     {
      "fromCodePoint": 97,
      "marks": {
       "bold": true
      },
      "toCodePoint": 109,
      "type": "marks"
     },
     {
      "fromCodePoint": 137,
      "marks": {
       "bold": true
      },
      "toCodePoint": 149,
      "type": "marks"
     },
     {
      "fromCodePoint": 189,
      "marks": {
       "bold": true
      },
      "toCodePoint": 200,
      "type": "marks"
     }
    ]
   },
   "source": [
    "sepal_length adalah panjang dari kelopak bunga iris dalam satuan yang sama (biasanya sentimeter), sepal_width adalah lebar dari kelopak, petal_length adalah panjang dari mahkota bunga, dan petal_width adalah lebar dari mahkota."
   ]
  },
  {
   "cell_type": "markdown",
   "metadata": {
    "cell_id": "c963fa2b0f6a4fe6820aa9f646d473bf",
    "deepnote_app_block_visible": false,
    "deepnote_cell_type": "text-cell-h2",
    "formattedRanges": [],
    "is_collapsed": false
   },
   "source": [
    "##  Tampilan"
   ]
  },
  {
   "cell_type": "code",
   "execution_count": 6,
   "metadata": {
    "cell_id": "4028de410990443d8f22d2bd32692967",
    "deepnote_cell_type": "sql",
    "deepnote_sql_source": "SELECT * FROM `defaultdb`.`iriscopy` LIMIT 1000",
    "deepnote_table_loading": false,
    "deepnote_table_state": {
     "filters": [],
     "pageIndex": 0,
     "pageSize": 10,
     "sortBy": []
    },
    "deepnote_to_be_reexecuted": false,
    "deepnote_variable_name": "df_1",
    "execution_millis": 3688,
    "execution_start": 1711579770353,
    "source_hash": "f781cabd",
    "sql_integration_id": "e260cbeb-4e67-484d-8d5f-fdcc9dec71a5"
   },
   "outputs": [
    {
     "data": {
      "application/vnd.deepnote.sql-output-metadata+json": {
       "size_in_bytes": 16678,
       "status": "success_no_cache"
      }
     },
     "metadata": {},
     "output_type": "display_data"
    },
    {
     "data": {
      "application/vnd.deepnote.dataframe.v3+json": {
       "column_count": 6,
       "columns": [
        {
         "dtype": "int64",
         "name": "id",
         "stats": {
          "histogram": [
           {
            "bin_end": 15.9,
            "bin_start": 1,
            "count": 15
           },
           {
            "bin_end": 30.8,
            "bin_start": 15.9,
            "count": 15
           },
           {
            "bin_end": 45.7,
            "bin_start": 30.8,
            "count": 15
           },
           {
            "bin_end": 60.6,
            "bin_start": 45.7,
            "count": 15
           },
           {
            "bin_end": 75.5,
            "bin_start": 60.6,
            "count": 15
           },
           {
            "bin_end": 90.4,
            "bin_start": 75.5,
            "count": 15
           },
           {
            "bin_end": 105.3,
            "bin_start": 90.4,
            "count": 15
           },
           {
            "bin_end": 120.2,
            "bin_start": 105.3,
            "count": 15
           },
           {
            "bin_end": 135.1,
            "bin_start": 120.2,
            "count": 15
           },
           {
            "bin_end": 150,
            "bin_start": 135.1,
            "count": 15
           }
          ],
          "max": "150",
          "min": "1",
          "nan_count": 0,
          "unique_count": 150
         }
        },
        {
         "dtype": "float64",
         "name": "sepal_length",
         "stats": {
          "histogram": [
           {
            "bin_end": 4.66,
            "bin_start": 4.3,
            "count": 9
           },
           {
            "bin_end": 5.02,
            "bin_start": 4.66,
            "count": 23
           },
           {
            "bin_end": 5.38,
            "bin_start": 5.02,
            "count": 14
           },
           {
            "bin_end": 5.74,
            "bin_start": 5.38,
            "count": 27
           },
           {
            "bin_end": 6.1,
            "bin_start": 5.74,
            "count": 16
           },
           {
            "bin_end": 6.46,
            "bin_start": 6.1,
            "count": 26
           },
           {
            "bin_end": 6.82,
            "bin_start": 6.46,
            "count": 18
           },
           {
            "bin_end": 7.18,
            "bin_start": 6.82,
            "count": 6
           },
           {
            "bin_end": 7.54,
            "bin_start": 7.18,
            "count": 5
           },
           {
            "bin_end": 7.9,
            "bin_start": 7.54,
            "count": 6
           }
          ],
          "max": "7.9",
          "min": "4.3",
          "nan_count": 0,
          "unique_count": 35
         }
        },
        {
         "dtype": "float64",
         "name": "sepal_width",
         "stats": {
          "histogram": [
           {
            "bin_end": 2.24,
            "bin_start": 2,
            "count": 4
           },
           {
            "bin_end": 2.48,
            "bin_start": 2.24,
            "count": 7
           },
           {
            "bin_end": 2.72,
            "bin_start": 2.48,
            "count": 22
           },
           {
            "bin_end": 2.96,
            "bin_start": 2.72,
            "count": 24
           },
           {
            "bin_end": 3.2,
            "bin_start": 2.96,
            "count": 38
           },
           {
            "bin_end": 3.4400000000000004,
            "bin_start": 3.2,
            "count": 31
           },
           {
            "bin_end": 3.6800000000000006,
            "bin_start": 3.4400000000000004,
            "count": 9
           },
           {
            "bin_end": 3.9200000000000004,
            "bin_start": 3.6800000000000006,
            "count": 11
           },
           {
            "bin_end": 4.16,
            "bin_start": 3.9200000000000004,
            "count": 2
           },
           {
            "bin_end": 4.4,
            "bin_start": 4.16,
            "count": 2
           }
          ],
          "max": "4.4",
          "min": "2.0",
          "nan_count": 0,
          "unique_count": 23
         }
        },
        {
         "dtype": "float64",
         "name": "petal_length",
         "stats": {
          "histogram": [
           {
            "bin_end": 1.59,
            "bin_start": 1,
            "count": 37
           },
           {
            "bin_end": 2.18,
            "bin_start": 1.59,
            "count": 13
           },
           {
            "bin_end": 2.7700000000000005,
            "bin_start": 2.18,
            "count": 0
           },
           {
            "bin_end": 3.3600000000000003,
            "bin_start": 2.7700000000000005,
            "count": 3
           },
           {
            "bin_end": 3.95,
            "bin_start": 3.3600000000000003,
            "count": 8
           },
           {
            "bin_end": 4.540000000000001,
            "bin_start": 3.95,
            "count": 26
           },
           {
            "bin_end": 5.130000000000001,
            "bin_start": 4.540000000000001,
            "count": 29
           },
           {
            "bin_end": 5.720000000000001,
            "bin_start": 5.130000000000001,
            "count": 18
           },
           {
            "bin_end": 6.3100000000000005,
            "bin_start": 5.720000000000001,
            "count": 11
           },
           {
            "bin_end": 6.9,
            "bin_start": 6.3100000000000005,
            "count": 5
           }
          ],
          "max": "6.9",
          "min": "1.0",
          "nan_count": 0,
          "unique_count": 43
         }
        },
        {
         "dtype": "float64",
         "name": "petal_width",
         "stats": {
          "histogram": [
           {
            "bin_end": 0.33999999999999997,
            "bin_start": 0.1,
            "count": 41
           },
           {
            "bin_end": 0.58,
            "bin_start": 0.33999999999999997,
            "count": 8
           },
           {
            "bin_end": 0.82,
            "bin_start": 0.58,
            "count": 1
           },
           {
            "bin_end": 1.06,
            "bin_start": 0.82,
            "count": 7
           },
           {
            "bin_end": 1.3,
            "bin_start": 1.06,
            "count": 8
           },
           {
            "bin_end": 1.54,
            "bin_start": 1.3,
            "count": 33
           },
           {
            "bin_end": 1.78,
            "bin_start": 1.54,
            "count": 6
           },
           {
            "bin_end": 2.02,
            "bin_start": 1.78,
            "count": 23
           },
           {
            "bin_end": 2.2600000000000002,
            "bin_start": 2.02,
            "count": 9
           },
           {
            "bin_end": 2.5,
            "bin_start": 2.2600000000000002,
            "count": 14
           }
          ],
          "max": "2.5",
          "min": "0.1",
          "nan_count": 0,
          "unique_count": 22
         }
        },
        {
         "dtype": "object",
         "name": "class",
         "stats": {
          "categories": [
           {
            "count": 50,
            "name": "Iris-setosa"
           },
           {
            "count": 50,
            "name": "Iris-versicolor"
           },
           {
            "count": 50,
            "name": "Iris-virginica"
           }
          ],
          "nan_count": 0,
          "unique_count": 3
         }
        },
        {
         "dtype": "int64",
         "name": "_deepnote_index_column"
        }
       ],
       "row_count": 150,
       "rows": [
        {
         "_deepnote_index_column": 0,
         "class": "Iris-setosa",
         "id": 1,
         "petal_length": 1.4,
         "petal_width": 0.2,
         "sepal_length": 5.1,
         "sepal_width": 3.5
        },
        {
         "_deepnote_index_column": 1,
         "class": "Iris-setosa",
         "id": 2,
         "petal_length": 1.4,
         "petal_width": 0.2,
         "sepal_length": 4.9,
         "sepal_width": 3
        },
        {
         "_deepnote_index_column": 2,
         "class": "Iris-setosa",
         "id": 3,
         "petal_length": 1.3,
         "petal_width": 0.2,
         "sepal_length": 4.7,
         "sepal_width": 3.2
        },
        {
         "_deepnote_index_column": 3,
         "class": "Iris-setosa",
         "id": 4,
         "petal_length": 1.5,
         "petal_width": 0.2,
         "sepal_length": 4.6,
         "sepal_width": 3.1
        },
        {
         "_deepnote_index_column": 4,
         "class": "Iris-setosa",
         "id": 5,
         "petal_length": 1.4,
         "petal_width": 0.2,
         "sepal_length": 5,
         "sepal_width": 3.6
        },
        {
         "_deepnote_index_column": 5,
         "class": "Iris-setosa",
         "id": 6,
         "petal_length": 1.7,
         "petal_width": 0.4,
         "sepal_length": 5.4,
         "sepal_width": 3.9
        },
        {
         "_deepnote_index_column": 6,
         "class": "Iris-setosa",
         "id": 7,
         "petal_length": 1.4,
         "petal_width": 0.3,
         "sepal_length": 4.6,
         "sepal_width": 3.4
        },
        {
         "_deepnote_index_column": 7,
         "class": "Iris-setosa",
         "id": 8,
         "petal_length": 1.5,
         "petal_width": 0.2,
         "sepal_length": 5,
         "sepal_width": 3.4
        },
        {
         "_deepnote_index_column": 8,
         "class": "Iris-setosa",
         "id": 9,
         "petal_length": 1.4,
         "petal_width": 0.2,
         "sepal_length": 4.4,
         "sepal_width": 2.9
        },
        {
         "_deepnote_index_column": 9,
         "class": "Iris-setosa",
         "id": 10,
         "petal_length": 1.5,
         "petal_width": 0.1,
         "sepal_length": 4.9,
         "sepal_width": 3.1
        }
       ]
      },
      "text/html": [
       "<div>\n",
       "<style scoped>\n",
       "    .dataframe tbody tr th:only-of-type {\n",
       "        vertical-align: middle;\n",
       "    }\n",
       "\n",
       "    .dataframe tbody tr th {\n",
       "        vertical-align: top;\n",
       "    }\n",
       "\n",
       "    .dataframe thead th {\n",
       "        text-align: right;\n",
       "    }\n",
       "</style>\n",
       "<table border=\"1\" class=\"dataframe\">\n",
       "  <thead>\n",
       "    <tr style=\"text-align: right;\">\n",
       "      <th></th>\n",
       "      <th>id</th>\n",
       "      <th>sepal_length</th>\n",
       "      <th>sepal_width</th>\n",
       "      <th>petal_length</th>\n",
       "      <th>petal_width</th>\n",
       "      <th>class</th>\n",
       "    </tr>\n",
       "  </thead>\n",
       "  <tbody>\n",
       "    <tr>\n",
       "      <th>0</th>\n",
       "      <td>1</td>\n",
       "      <td>5.1</td>\n",
       "      <td>3.5</td>\n",
       "      <td>1.4</td>\n",
       "      <td>0.2</td>\n",
       "      <td>Iris-setosa</td>\n",
       "    </tr>\n",
       "    <tr>\n",
       "      <th>1</th>\n",
       "      <td>2</td>\n",
       "      <td>4.9</td>\n",
       "      <td>3.0</td>\n",
       "      <td>1.4</td>\n",
       "      <td>0.2</td>\n",
       "      <td>Iris-setosa</td>\n",
       "    </tr>\n",
       "    <tr>\n",
       "      <th>2</th>\n",
       "      <td>3</td>\n",
       "      <td>4.7</td>\n",
       "      <td>3.2</td>\n",
       "      <td>1.3</td>\n",
       "      <td>0.2</td>\n",
       "      <td>Iris-setosa</td>\n",
       "    </tr>\n",
       "    <tr>\n",
       "      <th>3</th>\n",
       "      <td>4</td>\n",
       "      <td>4.6</td>\n",
       "      <td>3.1</td>\n",
       "      <td>1.5</td>\n",
       "      <td>0.2</td>\n",
       "      <td>Iris-setosa</td>\n",
       "    </tr>\n",
       "    <tr>\n",
       "      <th>4</th>\n",
       "      <td>5</td>\n",
       "      <td>5.0</td>\n",
       "      <td>3.6</td>\n",
       "      <td>1.4</td>\n",
       "      <td>0.2</td>\n",
       "      <td>Iris-setosa</td>\n",
       "    </tr>\n",
       "    <tr>\n",
       "      <th>...</th>\n",
       "      <td>...</td>\n",
       "      <td>...</td>\n",
       "      <td>...</td>\n",
       "      <td>...</td>\n",
       "      <td>...</td>\n",
       "      <td>...</td>\n",
       "    </tr>\n",
       "    <tr>\n",
       "      <th>145</th>\n",
       "      <td>146</td>\n",
       "      <td>6.7</td>\n",
       "      <td>3.0</td>\n",
       "      <td>5.2</td>\n",
       "      <td>2.3</td>\n",
       "      <td>Iris-virginica</td>\n",
       "    </tr>\n",
       "    <tr>\n",
       "      <th>146</th>\n",
       "      <td>147</td>\n",
       "      <td>6.3</td>\n",
       "      <td>2.5</td>\n",
       "      <td>5.0</td>\n",
       "      <td>1.9</td>\n",
       "      <td>Iris-virginica</td>\n",
       "    </tr>\n",
       "    <tr>\n",
       "      <th>147</th>\n",
       "      <td>148</td>\n",
       "      <td>6.5</td>\n",
       "      <td>3.0</td>\n",
       "      <td>5.2</td>\n",
       "      <td>2.0</td>\n",
       "      <td>Iris-virginica</td>\n",
       "    </tr>\n",
       "    <tr>\n",
       "      <th>148</th>\n",
       "      <td>149</td>\n",
       "      <td>6.2</td>\n",
       "      <td>3.4</td>\n",
       "      <td>5.4</td>\n",
       "      <td>2.3</td>\n",
       "      <td>Iris-virginica</td>\n",
       "    </tr>\n",
       "    <tr>\n",
       "      <th>149</th>\n",
       "      <td>150</td>\n",
       "      <td>5.9</td>\n",
       "      <td>3.0</td>\n",
       "      <td>5.1</td>\n",
       "      <td>1.8</td>\n",
       "      <td>Iris-virginica</td>\n",
       "    </tr>\n",
       "  </tbody>\n",
       "</table>\n",
       "<p>150 rows × 6 columns</p>\n",
       "</div>"
      ],
      "text/plain": [
       "      id  sepal_length  sepal_width  petal_length  petal_width           class\n",
       "0      1           5.1          3.5           1.4          0.2     Iris-setosa\n",
       "1      2           4.9          3.0           1.4          0.2     Iris-setosa\n",
       "2      3           4.7          3.2           1.3          0.2     Iris-setosa\n",
       "3      4           4.6          3.1           1.5          0.2     Iris-setosa\n",
       "4      5           5.0          3.6           1.4          0.2     Iris-setosa\n",
       "..   ...           ...          ...           ...          ...             ...\n",
       "145  146           6.7          3.0           5.2          2.3  Iris-virginica\n",
       "146  147           6.3          2.5           5.0          1.9  Iris-virginica\n",
       "147  148           6.5          3.0           5.2          2.0  Iris-virginica\n",
       "148  149           6.2          3.4           5.4          2.3  Iris-virginica\n",
       "149  150           5.9          3.0           5.1          1.8  Iris-virginica\n",
       "\n",
       "[150 rows x 6 columns]"
      ]
     },
     "execution_count": 6,
     "metadata": {},
     "output_type": "execute_result"
    }
   ],
   "source": [
    "df_1 = _deepnote_execute_sql('SELECT * FROM `defaultdb`.`iriscopy` LIMIT 1000', 'SQL_E260CBEB_4E67_484D_8D5F_FDCC9DEC71A5', audit_sql_comment='', sql_cache_mode='cache_disabled')\n",
    "df_1"
   ]
  },
  {
   "cell_type": "markdown",
   "metadata": {
    "cell_id": "cdaa999344f645079036a4fec99d08a2",
    "deepnote_cell_type": "markdown"
   },
   "source": [
    "## Deskripsi Statistik"
   ]
  },
  {
   "cell_type": "code",
   "execution_count": 7,
   "metadata": {
    "cell_id": "13a193deb3a94d4485c7f41b7b20354f",
    "deepnote_cell_type": "code",
    "deepnote_to_be_reexecuted": false,
    "execution_millis": 255,
    "execution_start": 1711579786328,
    "source_hash": "674a2a6"
   },
   "outputs": [
    {
     "data": {
      "application/vnd.deepnote.dataframe.v3+json": {
       "column_count": 5,
       "columns": [
        {
         "dtype": "float64",
         "name": "id",
         "stats": {
          "histogram": [
           {
            "bin_end": 15.9,
            "bin_start": 1,
            "count": 1
           },
           {
            "bin_end": 30.8,
            "bin_start": 15.9,
            "count": 0
           },
           {
            "bin_end": 45.7,
            "bin_start": 30.8,
            "count": 2
           },
           {
            "bin_end": 60.6,
            "bin_start": 45.7,
            "count": 0
           },
           {
            "bin_end": 75.5,
            "bin_start": 60.6,
            "count": 0
           },
           {
            "bin_end": 90.4,
            "bin_start": 75.5,
            "count": 2
           },
           {
            "bin_end": 105.3,
            "bin_start": 90.4,
            "count": 0
           },
           {
            "bin_end": 120.2,
            "bin_start": 105.3,
            "count": 1
           },
           {
            "bin_end": 135.1,
            "bin_start": 120.2,
            "count": 0
           },
           {
            "bin_end": 150,
            "bin_start": 135.1,
            "count": 2
           }
          ],
          "max": "150.0",
          "min": "1.0",
          "nan_count": 0,
          "unique_count": 6
         }
        },
        {
         "dtype": "float64",
         "name": "sepal_length",
         "stats": {
          "histogram": [
           {
            "bin_end": 15.745259515180075,
            "bin_start": 0.828066127977863,
            "count": 7
           },
           {
            "bin_end": 30.662452902382288,
            "bin_start": 15.745259515180075,
            "count": 0
           },
           {
            "bin_end": 45.5796462895845,
            "bin_start": 30.662452902382288,
            "count": 0
           },
           {
            "bin_end": 60.49683967678671,
            "bin_start": 45.5796462895845,
            "count": 0
           },
           {
            "bin_end": 75.41403306398892,
            "bin_start": 60.49683967678671,
            "count": 0
           },
           {
            "bin_end": 90.33122645119114,
            "bin_start": 75.41403306398892,
            "count": 0
           },
           {
            "bin_end": 105.24841983839335,
            "bin_start": 90.33122645119114,
            "count": 0
           },
           {
            "bin_end": 120.16561322559556,
            "bin_start": 105.24841983839335,
            "count": 0
           },
           {
            "bin_end": 135.08280661279778,
            "bin_start": 120.16561322559556,
            "count": 0
           },
           {
            "bin_end": 150,
            "bin_start": 135.08280661279778,
            "count": 1
           }
          ],
          "max": "150.0",
          "min": "0.828066127977863",
          "nan_count": 0,
          "unique_count": 8
         }
        },
        {
         "dtype": "float64",
         "name": "sepal_width",
         "stats": {
          "histogram": [
           {
            "bin_end": 15.390234880225956,
            "bin_start": 0.4335943113621737,
            "count": 7
           },
           {
            "bin_end": 30.346875449089737,
            "bin_start": 15.390234880225956,
            "count": 0
           },
           {
            "bin_end": 45.30351601795351,
            "bin_start": 30.346875449089737,
            "count": 0
           },
           {
            "bin_end": 60.260156586817295,
            "bin_start": 45.30351601795351,
            "count": 0
           },
           {
            "bin_end": 75.21679715568108,
            "bin_start": 60.260156586817295,
            "count": 0
           },
           {
            "bin_end": 90.17343772454485,
            "bin_start": 75.21679715568108,
            "count": 0
           },
           {
            "bin_end": 105.13007829340864,
            "bin_start": 90.17343772454485,
            "count": 0
           },
           {
            "bin_end": 120.08671886227242,
            "bin_start": 105.13007829340864,
            "count": 0
           },
           {
            "bin_end": 135.04335943113622,
            "bin_start": 120.08671886227242,
            "count": 0
           },
           {
            "bin_end": 150,
            "bin_start": 135.04335943113622,
            "count": 1
           }
          ],
          "max": "150.0",
          "min": "0.4335943113621737",
          "nan_count": 0,
          "unique_count": 8
         }
        },
        {
         "dtype": "float64",
         "name": "petal_length",
         "stats": {
          "histogram": [
           {
            "bin_end": 15.9,
            "bin_start": 1,
            "count": 7
           },
           {
            "bin_end": 30.8,
            "bin_start": 15.9,
            "count": 0
           },
           {
            "bin_end": 45.7,
            "bin_start": 30.8,
            "count": 0
           },
           {
            "bin_end": 60.6,
            "bin_start": 45.7,
            "count": 0
           },
           {
            "bin_end": 75.5,
            "bin_start": 60.6,
            "count": 0
           },
           {
            "bin_end": 90.4,
            "bin_start": 75.5,
            "count": 0
           },
           {
            "bin_end": 105.3,
            "bin_start": 90.4,
            "count": 0
           },
           {
            "bin_end": 120.2,
            "bin_start": 105.3,
            "count": 0
           },
           {
            "bin_end": 135.1,
            "bin_start": 120.2,
            "count": 0
           },
           {
            "bin_end": 150,
            "bin_start": 135.1,
            "count": 1
           }
          ],
          "max": "150.0",
          "min": "1.0",
          "nan_count": 0,
          "unique_count": 8
         }
        },
        {
         "dtype": "float64",
         "name": "petal_width",
         "stats": {
          "histogram": [
           {
            "bin_end": 15.09,
            "bin_start": 0.1,
            "count": 7
           },
           {
            "bin_end": 30.080000000000002,
            "bin_start": 15.09,
            "count": 0
           },
           {
            "bin_end": 45.07,
            "bin_start": 30.080000000000002,
            "count": 0
           },
           {
            "bin_end": 60.06,
            "bin_start": 45.07,
            "count": 0
           },
           {
            "bin_end": 75.05,
            "bin_start": 60.06,
            "count": 0
           },
           {
            "bin_end": 90.03999999999999,
            "bin_start": 75.05,
            "count": 0
           },
           {
            "bin_end": 105.03,
            "bin_start": 90.03999999999999,
            "count": 0
           },
           {
            "bin_end": 120.02,
            "bin_start": 105.03,
            "count": 0
           },
           {
            "bin_end": 135.01,
            "bin_start": 120.02,
            "count": 0
           },
           {
            "bin_end": 150,
            "bin_start": 135.01,
            "count": 1
           }
          ],
          "max": "150.0",
          "min": "0.1",
          "nan_count": 0,
          "unique_count": 8
         }
        },
        {
         "dtype": "object",
         "name": "_deepnote_index_column"
        }
       ],
       "row_count": 8,
       "rows": [
        {
         "_deepnote_index_column": "count",
         "id": 150,
         "petal_length": 150,
         "petal_width": 150,
         "sepal_length": 150,
         "sepal_width": 150
        },
        {
         "_deepnote_index_column": "mean",
         "id": 75.5,
         "petal_length": 3.758666666666666,
         "petal_width": 1.1986666666666668,
         "sepal_length": 5.843333333333334,
         "sepal_width": 3.0540000000000003
        },
        {
         "_deepnote_index_column": "std",
         "id": 43.445367992456916,
         "petal_length": 1.7644204199522626,
         "petal_width": 0.7631607417008411,
         "sepal_length": 0.828066127977863,
         "sepal_width": 0.4335943113621737
        },
        {
         "_deepnote_index_column": "min",
         "id": 1,
         "petal_length": 1,
         "petal_width": 0.1,
         "sepal_length": 4.3,
         "sepal_width": 2
        },
        {
         "_deepnote_index_column": "25%",
         "id": 38.25,
         "petal_length": 1.6,
         "petal_width": 0.3,
         "sepal_length": 5.1,
         "sepal_width": 2.8
        },
        {
         "_deepnote_index_column": "50%",
         "id": 75.5,
         "petal_length": 4.35,
         "petal_width": 1.3,
         "sepal_length": 5.8,
         "sepal_width": 3
        },
        {
         "_deepnote_index_column": "75%",
         "id": 112.75,
         "petal_length": 5.1,
         "petal_width": 1.8,
         "sepal_length": 6.4,
         "sepal_width": 3.3
        },
        {
         "_deepnote_index_column": "max",
         "id": 150,
         "petal_length": 6.9,
         "petal_width": 2.5,
         "sepal_length": 7.9,
         "sepal_width": 4.4
        }
       ]
      },
      "text/html": [
       "<div>\n",
       "<style scoped>\n",
       "    .dataframe tbody tr th:only-of-type {\n",
       "        vertical-align: middle;\n",
       "    }\n",
       "\n",
       "    .dataframe tbody tr th {\n",
       "        vertical-align: top;\n",
       "    }\n",
       "\n",
       "    .dataframe thead th {\n",
       "        text-align: right;\n",
       "    }\n",
       "</style>\n",
       "<table border=\"1\" class=\"dataframe\">\n",
       "  <thead>\n",
       "    <tr style=\"text-align: right;\">\n",
       "      <th></th>\n",
       "      <th>id</th>\n",
       "      <th>sepal_length</th>\n",
       "      <th>sepal_width</th>\n",
       "      <th>petal_length</th>\n",
       "      <th>petal_width</th>\n",
       "    </tr>\n",
       "  </thead>\n",
       "  <tbody>\n",
       "    <tr>\n",
       "      <th>count</th>\n",
       "      <td>150.000000</td>\n",
       "      <td>150.000000</td>\n",
       "      <td>150.000000</td>\n",
       "      <td>150.000000</td>\n",
       "      <td>150.000000</td>\n",
       "    </tr>\n",
       "    <tr>\n",
       "      <th>mean</th>\n",
       "      <td>75.500000</td>\n",
       "      <td>5.843333</td>\n",
       "      <td>3.054000</td>\n",
       "      <td>3.758667</td>\n",
       "      <td>1.198667</td>\n",
       "    </tr>\n",
       "    <tr>\n",
       "      <th>std</th>\n",
       "      <td>43.445368</td>\n",
       "      <td>0.828066</td>\n",
       "      <td>0.433594</td>\n",
       "      <td>1.764420</td>\n",
       "      <td>0.763161</td>\n",
       "    </tr>\n",
       "    <tr>\n",
       "      <th>min</th>\n",
       "      <td>1.000000</td>\n",
       "      <td>4.300000</td>\n",
       "      <td>2.000000</td>\n",
       "      <td>1.000000</td>\n",
       "      <td>0.100000</td>\n",
       "    </tr>\n",
       "    <tr>\n",
       "      <th>25%</th>\n",
       "      <td>38.250000</td>\n",
       "      <td>5.100000</td>\n",
       "      <td>2.800000</td>\n",
       "      <td>1.600000</td>\n",
       "      <td>0.300000</td>\n",
       "    </tr>\n",
       "    <tr>\n",
       "      <th>50%</th>\n",
       "      <td>75.500000</td>\n",
       "      <td>5.800000</td>\n",
       "      <td>3.000000</td>\n",
       "      <td>4.350000</td>\n",
       "      <td>1.300000</td>\n",
       "    </tr>\n",
       "    <tr>\n",
       "      <th>75%</th>\n",
       "      <td>112.750000</td>\n",
       "      <td>6.400000</td>\n",
       "      <td>3.300000</td>\n",
       "      <td>5.100000</td>\n",
       "      <td>1.800000</td>\n",
       "    </tr>\n",
       "    <tr>\n",
       "      <th>max</th>\n",
       "      <td>150.000000</td>\n",
       "      <td>7.900000</td>\n",
       "      <td>4.400000</td>\n",
       "      <td>6.900000</td>\n",
       "      <td>2.500000</td>\n",
       "    </tr>\n",
       "  </tbody>\n",
       "</table>\n",
       "</div>"
      ],
      "text/plain": [
       "               id  sepal_length  sepal_width  petal_length  petal_width\n",
       "count  150.000000    150.000000   150.000000    150.000000   150.000000\n",
       "mean    75.500000      5.843333     3.054000      3.758667     1.198667\n",
       "std     43.445368      0.828066     0.433594      1.764420     0.763161\n",
       "min      1.000000      4.300000     2.000000      1.000000     0.100000\n",
       "25%     38.250000      5.100000     2.800000      1.600000     0.300000\n",
       "50%     75.500000      5.800000     3.000000      4.350000     1.300000\n",
       "75%    112.750000      6.400000     3.300000      5.100000     1.800000\n",
       "max    150.000000      7.900000     4.400000      6.900000     2.500000"
      ]
     },
     "execution_count": 7,
     "metadata": {},
     "output_type": "execute_result"
    }
   ],
   "source": [
    "dataset.describe()"
   ]
  },
  {
   "cell_type": "markdown",
   "metadata": {
    "cell_id": "ebe3b65a2ccc4e4ebe86e60a7306042d",
    "deepnote_cell_type": "markdown"
   },
   "source": [
    "Keterangan :"
   ]
  },
  {
   "cell_type": "markdown",
   "metadata": {
    "cell_id": "59fc56f9efbb4546a64abf0c7252a7ff",
    "deepnote_cell_type": "markdown"
   },
   "source": [
    "- Count adalah jumlah data yang ada dalam setiap kolom.\n",
    "- Mean adalah nilai rata-rata dari data dalam setiap kolom.\n",
    "- std (Standar deviasi) adalah ukuran seberapa jauh data tersebar dari rata-rata dalam setiap kolom.\n",
    "- min(minimum) adalah nilai terkecil dalam setiap kolom.\n",
    "- 25% (Kuartil pertama/Q1) adalah nilai yang membagi 25% data terendah dari data dalam setiap kolom.\n",
    "- 50% (Median atau kuartil kedua/Q2) adalah nilai yang membagi data menjadi dua bagian sama besar dalam setiap kolom.\n",
    "- 75% (Kuartil ketiga/Q3) adalah nilai yang membagi 75% data tertinggi dari data dalam setiap kolom.\n",
    "- Max (Nilai maksimum) adalah nilai terbesar dalam setiap kolom.\n"
   ]
  },
  {
   "cell_type": "markdown",
   "metadata": {
    "cell_id": "6a43ea27f54b4d7b87a39b93bfce7cdd",
    "deepnote_app_block_visible": false,
    "deepnote_cell_type": "text-cell-h2",
    "formattedRanges": [],
    "is_collapsed": false
   },
   "source": [
    "## Jumlah data setiap class/species"
   ]
  },
  {
   "cell_type": "code",
   "execution_count": 10,
   "metadata": {
    "cell_id": "0c4f2205dc7843a7b0bc60f8af9dc9b9",
    "deepnote_cell_type": "code",
    "deepnote_to_be_reexecuted": false,
    "execution_millis": 68,
    "execution_start": 1711579817435,
    "source_hash": "5616bf02"
   },
   "outputs": [
    {
     "data": {
      "text/plain": [
       "class\n",
       "Iris-setosa        50\n",
       "Iris-versicolor    50\n",
       "Iris-virginica     50\n",
       "dtype: int64"
      ]
     },
     "execution_count": 10,
     "metadata": {},
     "output_type": "execute_result"
    }
   ],
   "source": [
    "dataset.groupby('class').size()  # mengetahui jumlah masing-masing class/species"
   ]
  },
  {
   "cell_type": "markdown",
   "metadata": {
    "cell_id": "903b892ed65f496fad5eb40db88b3e36",
    "deepnote_app_block_visible": false,
    "deepnote_cell_type": "text-cell-bullet",
    "formattedRanges": [],
    "is_collapsed": false
   },
   "source": [
    "- Iris-setosa sebanyak 50"
   ]
  },
  {
   "cell_type": "markdown",
   "metadata": {
    "cell_id": "a4f2a36f76bb4e129b741c4acf9a71db",
    "deepnote_app_block_visible": false,
    "deepnote_cell_type": "text-cell-bullet",
    "formattedRanges": [],
    "is_collapsed": false
   },
   "source": [
    "- Iris-vesicolor sebanyak 50"
   ]
  },
  {
   "cell_type": "markdown",
   "metadata": {
    "cell_id": "ebf49c9c317b4ac59fd59396a679eca1",
    "deepnote_app_block_visible": false,
    "deepnote_cell_type": "text-cell-bullet",
    "formattedRanges": [],
    "is_collapsed": false
   },
   "source": [
    "- Iris-virginica sebanyak 50"
   ]
  },
  {
   "cell_type": "markdown",
   "metadata": {
    "cell_id": "8f15cd11d47a4e24addeadf647f9899c",
    "deepnote_cell_type": "markdown"
   },
   "source": [
    "## Pra-proses data"
   ]
  },
  {
   "cell_type": "markdown",
   "metadata": {
    "cell_id": "fbd9d8fadfda4d5d862b10ddff85c2d3",
    "deepnote_cell_type": "markdown"
   },
   "source": [
    "### Dengan mean"
   ]
  },
  {
   "cell_type": "markdown",
   "metadata": {
    "cell_id": "0d5b324ce6734262a1b827e692cc87d4",
    "deepnote_cell_type": "markdown"
   },
   "source": [
    "berikut adalah tampilan data kosong"
   ]
  },
  {
   "cell_type": "code",
   "execution_count": 11,
   "metadata": {
    "cell_id": "bfa5922297014379b38d729f364d8bfc",
    "deepnote_cell_type": "sql",
    "deepnote_sql_source": "SELECT * FROM `defaultdb`.`missingcopy` LIMIT 20",
    "deepnote_table_loading": false,
    "deepnote_table_state": {
     "filters": [],
     "pageIndex": 0,
     "pageSize": 10,
     "sortBy": []
    },
    "deepnote_to_be_reexecuted": false,
    "deepnote_variable_name": "df_5",
    "execution_millis": 3324,
    "execution_start": 1711579822775,
    "source_hash": "735b5a22",
    "sql_integration_id": "e260cbeb-4e67-484d-8d5f-fdcc9dec71a5"
   },
   "outputs": [
    {
     "data": {
      "application/vnd.deepnote.sql-output-metadata+json": {
       "size_in_bytes": 2288,
       "status": "success_no_cache"
      }
     },
     "metadata": {},
     "output_type": "display_data"
    },
    {
     "data": {
      "application/vnd.deepnote.dataframe.v3+json": {
       "column_count": 6,
       "columns": [
        {
         "dtype": "int64",
         "name": "id",
         "stats": {
          "histogram": [
           {
            "bin_end": 2.9,
            "bin_start": 1,
            "count": 2
           },
           {
            "bin_end": 4.8,
            "bin_start": 2.9,
            "count": 2
           },
           {
            "bin_end": 6.699999999999999,
            "bin_start": 4.8,
            "count": 2
           },
           {
            "bin_end": 8.6,
            "bin_start": 6.699999999999999,
            "count": 2
           },
           {
            "bin_end": 10.5,
            "bin_start": 8.6,
            "count": 2
           },
           {
            "bin_end": 12.399999999999999,
            "bin_start": 10.5,
            "count": 2
           },
           {
            "bin_end": 14.299999999999999,
            "bin_start": 12.399999999999999,
            "count": 2
           },
           {
            "bin_end": 16.2,
            "bin_start": 14.299999999999999,
            "count": 2
           },
           {
            "bin_end": 18.099999999999998,
            "bin_start": 16.2,
            "count": 2
           },
           {
            "bin_end": 20,
            "bin_start": 18.099999999999998,
            "count": 2
           }
          ],
          "max": "20",
          "min": "1",
          "nan_count": 0,
          "unique_count": 20
         }
        },
        {
         "dtype": "float64",
         "name": "sepal_length",
         "stats": {
          "histogram": [
           {
            "bin_end": 4.45,
            "bin_start": 4.3,
            "count": 1
           },
           {
            "bin_end": 4.6,
            "bin_start": 4.45,
            "count": 0
           },
           {
            "bin_end": 4.75,
            "bin_start": 4.6,
            "count": 1
           },
           {
            "bin_end": 4.8999999999999995,
            "bin_start": 4.75,
            "count": 2
           },
           {
            "bin_end": 5.05,
            "bin_start": 4.8999999999999995,
            "count": 3
           },
           {
            "bin_end": 5.199999999999999,
            "bin_start": 5.05,
            "count": 3
           },
           {
            "bin_end": 5.35,
            "bin_start": 5.199999999999999,
            "count": 0
           },
           {
            "bin_end": 5.5,
            "bin_start": 5.35,
            "count": 2
           },
           {
            "bin_end": 5.6499999999999995,
            "bin_start": 5.5,
            "count": 0
           },
           {
            "bin_end": 5.8,
            "bin_start": 5.6499999999999995,
            "count": 3
           }
          ],
          "max": "5.8",
          "min": "4.3",
          "nan_count": 5,
          "unique_count": 9
         }
        },
        {
         "dtype": "float64",
         "name": "sepal_width",
         "stats": {
          "histogram": [
           {
            "bin_end": 3.05,
            "bin_start": 2.9,
            "count": 4
           },
           {
            "bin_end": 3.2,
            "bin_start": 3.05,
            "count": 2
           },
           {
            "bin_end": 3.35,
            "bin_start": 3.2,
            "count": 1
           },
           {
            "bin_end": 3.5,
            "bin_start": 3.35,
            "count": 3
           },
           {
            "bin_end": 3.6500000000000004,
            "bin_start": 3.5,
            "count": 3
           },
           {
            "bin_end": 3.8000000000000003,
            "bin_start": 3.6500000000000004,
            "count": 3
           },
           {
            "bin_end": 3.95,
            "bin_start": 3.8000000000000003,
            "count": 2
           },
           {
            "bin_end": 4.1000000000000005,
            "bin_start": 3.95,
            "count": 1
           },
           {
            "bin_end": 4.25,
            "bin_start": 4.1000000000000005,
            "count": 0
           },
           {
            "bin_end": 4.4,
            "bin_start": 4.25,
            "count": 1
           }
          ],
          "max": "4.4",
          "min": "2.9",
          "nan_count": 0,
          "unique_count": 12
         }
        },
        {
         "dtype": "float64",
         "name": "petal_length",
         "stats": {
          "histogram": [
           {
            "bin_end": 1.1600000000000001,
            "bin_start": 1.1,
            "count": 1
           },
           {
            "bin_end": 1.22,
            "bin_start": 1.1600000000000001,
            "count": 1
           },
           {
            "bin_end": 1.28,
            "bin_start": 1.22,
            "count": 0
           },
           {
            "bin_end": 1.34,
            "bin_start": 1.28,
            "count": 2
           },
           {
            "bin_end": 1.4,
            "bin_start": 1.34,
            "count": 0
           },
           {
            "bin_end": 1.46,
            "bin_start": 1.4,
            "count": 7
           },
           {
            "bin_end": 1.52,
            "bin_start": 1.46,
            "count": 6
           },
           {
            "bin_end": 1.58,
            "bin_start": 1.52,
            "count": 0
           },
           {
            "bin_end": 1.64,
            "bin_start": 1.58,
            "count": 1
           },
           {
            "bin_end": 1.7,
            "bin_start": 1.64,
            "count": 2
           }
          ],
          "max": "1.7",
          "min": "1.1",
          "nan_count": 0,
          "unique_count": 7
         }
        },
        {
         "dtype": "float64",
         "name": "petal_width",
         "stats": {
          "histogram": [
           {
            "bin_end": 0.13,
            "bin_start": 0.1,
            "count": 3
           },
           {
            "bin_end": 0.16000000000000003,
            "bin_start": 0.13,
            "count": 0
           },
           {
            "bin_end": 0.19000000000000003,
            "bin_start": 0.16000000000000003,
            "count": 0
           },
           {
            "bin_end": 0.22000000000000003,
            "bin_start": 0.19000000000000003,
            "count": 10
           },
           {
            "bin_end": 0.25,
            "bin_start": 0.22000000000000003,
            "count": 0
           },
           {
            "bin_end": 0.28,
            "bin_start": 0.25,
            "count": 0
           },
           {
            "bin_end": 0.31000000000000005,
            "bin_start": 0.28,
            "count": 4
           },
           {
            "bin_end": 0.3400000000000001,
            "bin_start": 0.31000000000000005,
            "count": 0
           },
           {
            "bin_end": 0.3700000000000001,
            "bin_start": 0.3400000000000001,
            "count": 0
           },
           {
            "bin_end": 0.4,
            "bin_start": 0.3700000000000001,
            "count": 3
           }
          ],
          "max": "0.4",
          "min": "0.1",
          "nan_count": 0,
          "unique_count": 4
         }
        },
        {
         "dtype": "object",
         "name": "class",
         "stats": {
          "categories": [
           {
            "count": 20,
            "name": "Iris-setosa"
           }
          ],
          "nan_count": 0,
          "unique_count": 1
         }
        },
        {
         "dtype": "int64",
         "name": "_deepnote_index_column"
        }
       ],
       "row_count": 20,
       "rows": [
        {
         "_deepnote_index_column": 0,
         "class": "Iris-setosa",
         "id": 1,
         "petal_length": 1.4,
         "petal_width": 0.2,
         "sepal_length": 5.1,
         "sepal_width": 3.5
        },
        {
         "_deepnote_index_column": 1,
         "class": "Iris-setosa",
         "id": 2,
         "petal_length": 1.4,
         "petal_width": 0.2,
         "sepal_length": "nan",
         "sepal_width": 3
        },
        {
         "_deepnote_index_column": 2,
         "class": "Iris-setosa",
         "id": 3,
         "petal_length": 1.3,
         "petal_width": 0.2,
         "sepal_length": "nan",
         "sepal_width": 3.2
        },
        {
         "_deepnote_index_column": 3,
         "class": "Iris-setosa",
         "id": 4,
         "petal_length": 1.5,
         "petal_width": 0.2,
         "sepal_length": "nan",
         "sepal_width": 3.1
        },
        {
         "_deepnote_index_column": 4,
         "class": "Iris-setosa",
         "id": 5,
         "petal_length": 1.4,
         "petal_width": 0.2,
         "sepal_length": 5,
         "sepal_width": 3.6
        },
        {
         "_deepnote_index_column": 5,
         "class": "Iris-setosa",
         "id": 6,
         "petal_length": 1.7,
         "petal_width": 0.4,
         "sepal_length": "nan",
         "sepal_width": 3.9
        },
        {
         "_deepnote_index_column": 6,
         "class": "Iris-setosa",
         "id": 7,
         "petal_length": 1.4,
         "petal_width": 0.3,
         "sepal_length": 4.6,
         "sepal_width": 3.4
        },
        {
         "_deepnote_index_column": 7,
         "class": "Iris-setosa",
         "id": 8,
         "petal_length": 1.5,
         "petal_width": 0.2,
         "sepal_length": 5,
         "sepal_width": 3.4
        },
        {
         "_deepnote_index_column": 8,
         "class": "Iris-setosa",
         "id": 9,
         "petal_length": 1.4,
         "petal_width": 0.2,
         "sepal_length": "nan",
         "sepal_width": 2.9
        },
        {
         "_deepnote_index_column": 9,
         "class": "Iris-setosa",
         "id": 10,
         "petal_length": 1.5,
         "petal_width": 0.1,
         "sepal_length": 4.9,
         "sepal_width": 3.1
        }
       ]
      },
      "text/html": [
       "<div>\n",
       "<style scoped>\n",
       "    .dataframe tbody tr th:only-of-type {\n",
       "        vertical-align: middle;\n",
       "    }\n",
       "\n",
       "    .dataframe tbody tr th {\n",
       "        vertical-align: top;\n",
       "    }\n",
       "\n",
       "    .dataframe thead th {\n",
       "        text-align: right;\n",
       "    }\n",
       "</style>\n",
       "<table border=\"1\" class=\"dataframe\">\n",
       "  <thead>\n",
       "    <tr style=\"text-align: right;\">\n",
       "      <th></th>\n",
       "      <th>id</th>\n",
       "      <th>sepal_length</th>\n",
       "      <th>sepal_width</th>\n",
       "      <th>petal_length</th>\n",
       "      <th>petal_width</th>\n",
       "      <th>class</th>\n",
       "    </tr>\n",
       "  </thead>\n",
       "  <tbody>\n",
       "    <tr>\n",
       "      <th>0</th>\n",
       "      <td>1</td>\n",
       "      <td>5.1</td>\n",
       "      <td>3.5</td>\n",
       "      <td>1.4</td>\n",
       "      <td>0.2</td>\n",
       "      <td>Iris-setosa</td>\n",
       "    </tr>\n",
       "    <tr>\n",
       "      <th>1</th>\n",
       "      <td>2</td>\n",
       "      <td>NaN</td>\n",
       "      <td>3.0</td>\n",
       "      <td>1.4</td>\n",
       "      <td>0.2</td>\n",
       "      <td>Iris-setosa</td>\n",
       "    </tr>\n",
       "    <tr>\n",
       "      <th>2</th>\n",
       "      <td>3</td>\n",
       "      <td>NaN</td>\n",
       "      <td>3.2</td>\n",
       "      <td>1.3</td>\n",
       "      <td>0.2</td>\n",
       "      <td>Iris-setosa</td>\n",
       "    </tr>\n",
       "    <tr>\n",
       "      <th>3</th>\n",
       "      <td>4</td>\n",
       "      <td>NaN</td>\n",
       "      <td>3.1</td>\n",
       "      <td>1.5</td>\n",
       "      <td>0.2</td>\n",
       "      <td>Iris-setosa</td>\n",
       "    </tr>\n",
       "    <tr>\n",
       "      <th>4</th>\n",
       "      <td>5</td>\n",
       "      <td>5.0</td>\n",
       "      <td>3.6</td>\n",
       "      <td>1.4</td>\n",
       "      <td>0.2</td>\n",
       "      <td>Iris-setosa</td>\n",
       "    </tr>\n",
       "    <tr>\n",
       "      <th>5</th>\n",
       "      <td>6</td>\n",
       "      <td>NaN</td>\n",
       "      <td>3.9</td>\n",
       "      <td>1.7</td>\n",
       "      <td>0.4</td>\n",
       "      <td>Iris-setosa</td>\n",
       "    </tr>\n",
       "    <tr>\n",
       "      <th>6</th>\n",
       "      <td>7</td>\n",
       "      <td>4.6</td>\n",
       "      <td>3.4</td>\n",
       "      <td>1.4</td>\n",
       "      <td>0.3</td>\n",
       "      <td>Iris-setosa</td>\n",
       "    </tr>\n",
       "    <tr>\n",
       "      <th>7</th>\n",
       "      <td>8</td>\n",
       "      <td>5.0</td>\n",
       "      <td>3.4</td>\n",
       "      <td>1.5</td>\n",
       "      <td>0.2</td>\n",
       "      <td>Iris-setosa</td>\n",
       "    </tr>\n",
       "    <tr>\n",
       "      <th>8</th>\n",
       "      <td>9</td>\n",
       "      <td>NaN</td>\n",
       "      <td>2.9</td>\n",
       "      <td>1.4</td>\n",
       "      <td>0.2</td>\n",
       "      <td>Iris-setosa</td>\n",
       "    </tr>\n",
       "    <tr>\n",
       "      <th>9</th>\n",
       "      <td>10</td>\n",
       "      <td>4.9</td>\n",
       "      <td>3.1</td>\n",
       "      <td>1.5</td>\n",
       "      <td>0.1</td>\n",
       "      <td>Iris-setosa</td>\n",
       "    </tr>\n",
       "    <tr>\n",
       "      <th>10</th>\n",
       "      <td>11</td>\n",
       "      <td>5.4</td>\n",
       "      <td>3.7</td>\n",
       "      <td>1.5</td>\n",
       "      <td>0.2</td>\n",
       "      <td>Iris-setosa</td>\n",
       "    </tr>\n",
       "    <tr>\n",
       "      <th>11</th>\n",
       "      <td>12</td>\n",
       "      <td>4.8</td>\n",
       "      <td>3.4</td>\n",
       "      <td>1.6</td>\n",
       "      <td>0.2</td>\n",
       "      <td>Iris-setosa</td>\n",
       "    </tr>\n",
       "    <tr>\n",
       "      <th>12</th>\n",
       "      <td>13</td>\n",
       "      <td>4.8</td>\n",
       "      <td>3.0</td>\n",
       "      <td>1.4</td>\n",
       "      <td>0.1</td>\n",
       "      <td>Iris-setosa</td>\n",
       "    </tr>\n",
       "    <tr>\n",
       "      <th>13</th>\n",
       "      <td>14</td>\n",
       "      <td>4.3</td>\n",
       "      <td>3.0</td>\n",
       "      <td>1.1</td>\n",
       "      <td>0.1</td>\n",
       "      <td>Iris-setosa</td>\n",
       "    </tr>\n",
       "    <tr>\n",
       "      <th>14</th>\n",
       "      <td>15</td>\n",
       "      <td>5.8</td>\n",
       "      <td>4.0</td>\n",
       "      <td>1.2</td>\n",
       "      <td>0.2</td>\n",
       "      <td>Iris-setosa</td>\n",
       "    </tr>\n",
       "    <tr>\n",
       "      <th>15</th>\n",
       "      <td>16</td>\n",
       "      <td>5.7</td>\n",
       "      <td>4.4</td>\n",
       "      <td>1.5</td>\n",
       "      <td>0.4</td>\n",
       "      <td>Iris-setosa</td>\n",
       "    </tr>\n",
       "    <tr>\n",
       "      <th>16</th>\n",
       "      <td>17</td>\n",
       "      <td>5.4</td>\n",
       "      <td>3.9</td>\n",
       "      <td>1.3</td>\n",
       "      <td>0.4</td>\n",
       "      <td>Iris-setosa</td>\n",
       "    </tr>\n",
       "    <tr>\n",
       "      <th>17</th>\n",
       "      <td>18</td>\n",
       "      <td>5.1</td>\n",
       "      <td>3.5</td>\n",
       "      <td>1.4</td>\n",
       "      <td>0.3</td>\n",
       "      <td>Iris-setosa</td>\n",
       "    </tr>\n",
       "    <tr>\n",
       "      <th>18</th>\n",
       "      <td>19</td>\n",
       "      <td>5.7</td>\n",
       "      <td>3.8</td>\n",
       "      <td>1.7</td>\n",
       "      <td>0.3</td>\n",
       "      <td>Iris-setosa</td>\n",
       "    </tr>\n",
       "    <tr>\n",
       "      <th>19</th>\n",
       "      <td>20</td>\n",
       "      <td>5.1</td>\n",
       "      <td>3.8</td>\n",
       "      <td>1.5</td>\n",
       "      <td>0.3</td>\n",
       "      <td>Iris-setosa</td>\n",
       "    </tr>\n",
       "  </tbody>\n",
       "</table>\n",
       "</div>"
      ],
      "text/plain": [
       "    id  sepal_length  sepal_width  petal_length  petal_width        class\n",
       "0    1           5.1          3.5           1.4          0.2  Iris-setosa\n",
       "1    2           NaN          3.0           1.4          0.2  Iris-setosa\n",
       "2    3           NaN          3.2           1.3          0.2  Iris-setosa\n",
       "3    4           NaN          3.1           1.5          0.2  Iris-setosa\n",
       "4    5           5.0          3.6           1.4          0.2  Iris-setosa\n",
       "5    6           NaN          3.9           1.7          0.4  Iris-setosa\n",
       "6    7           4.6          3.4           1.4          0.3  Iris-setosa\n",
       "7    8           5.0          3.4           1.5          0.2  Iris-setosa\n",
       "8    9           NaN          2.9           1.4          0.2  Iris-setosa\n",
       "9   10           4.9          3.1           1.5          0.1  Iris-setosa\n",
       "10  11           5.4          3.7           1.5          0.2  Iris-setosa\n",
       "11  12           4.8          3.4           1.6          0.2  Iris-setosa\n",
       "12  13           4.8          3.0           1.4          0.1  Iris-setosa\n",
       "13  14           4.3          3.0           1.1          0.1  Iris-setosa\n",
       "14  15           5.8          4.0           1.2          0.2  Iris-setosa\n",
       "15  16           5.7          4.4           1.5          0.4  Iris-setosa\n",
       "16  17           5.4          3.9           1.3          0.4  Iris-setosa\n",
       "17  18           5.1          3.5           1.4          0.3  Iris-setosa\n",
       "18  19           5.7          3.8           1.7          0.3  Iris-setosa\n",
       "19  20           5.1          3.8           1.5          0.3  Iris-setosa"
      ]
     },
     "execution_count": 11,
     "metadata": {},
     "output_type": "execute_result"
    }
   ],
   "source": [
    "df_5 = _deepnote_execute_sql('SELECT * FROM `defaultdb`.`missingcopy` LIMIT 20', 'SQL_E260CBEB_4E67_484D_8D5F_FDCC9DEC71A5', audit_sql_comment='', sql_cache_mode='cache_disabled')\n",
    "df_5"
   ]
  },
  {
   "cell_type": "markdown",
   "metadata": {
    "cell_id": "0e6ec1b4af914d6e9bf113618a420c67",
    "deepnote_app_block_visible": false,
    "deepnote_cell_type": "markdown"
   },
   "source": [
    "mencari mean dengan query dan update dengan query di tool **mysql workbench**"
   ]
  },
  {
   "cell_type": "markdown",
   "metadata": {
    "cell_id": "ce366ac1ec7a4d31bf9bf923c06979c0",
    "deepnote_app_block_visible": false,
    "deepnote_cell_type": "markdown",
    "deepnote_to_be_reexecuted": false,
    "execution_millis": 84,
    "execution_start": 1711558719014,
    "source_hash": "da63774e"
   },
   "source": [
    "SET @avg_sepal_length := (SELECT AVG(sepal_length) FROM defaultdb.iris WHERE sepal_length IS NOT NULL);\n",
    "\n",
    "UPDATE defaultdb.iris\n",
    "SET sepal_length = IF(sepal_length IS NULL, @avg_sepal_length, sepal_length);\n"
   ]
  },
  {
   "cell_type": "code",
   "execution_count": 12,
   "metadata": {
    "cell_id": "a215b1b1b13a4d4d87dece62c3530ff9",
    "deepnote_cell_type": "sql",
    "deepnote_sql_source": "SELECT * FROM `defaultdb`.`iris` LIMIT 10",
    "deepnote_table_invalid": false,
    "deepnote_table_loading": false,
    "deepnote_table_state": {
     "filters": [],
     "pageIndex": 0,
     "pageSize": 10,
     "sortBy": []
    },
    "deepnote_to_be_reexecuted": false,
    "deepnote_variable_name": "df_2",
    "execution_millis": 3510,
    "execution_start": 1711579829623,
    "source_hash": "82c24157",
    "sql_integration_id": "e260cbeb-4e67-484d-8d5f-fdcc9dec71a5"
   },
   "outputs": [
    {
     "data": {
      "application/vnd.deepnote.sql-output-metadata+json": {
       "size_in_bytes": 1208,
       "status": "success_no_cache"
      }
     },
     "metadata": {},
     "output_type": "display_data"
    },
    {
     "data": {
      "application/vnd.deepnote.dataframe.v3+json": {
       "column_count": 6,
       "columns": [
        {
         "dtype": "int64",
         "name": "id",
         "stats": {
          "histogram": [
           {
            "bin_end": 1.9,
            "bin_start": 1,
            "count": 1
           },
           {
            "bin_end": 2.8,
            "bin_start": 1.9,
            "count": 1
           },
           {
            "bin_end": 3.7,
            "bin_start": 2.8,
            "count": 1
           },
           {
            "bin_end": 4.6,
            "bin_start": 3.7,
            "count": 1
           },
           {
            "bin_end": 5.5,
            "bin_start": 4.6,
            "count": 1
           },
           {
            "bin_end": 6.4,
            "bin_start": 5.5,
            "count": 1
           },
           {
            "bin_end": 7.3,
            "bin_start": 6.4,
            "count": 1
           },
           {
            "bin_end": 8.2,
            "bin_start": 7.3,
            "count": 1
           },
           {
            "bin_end": 9.1,
            "bin_start": 8.2,
            "count": 1
           },
           {
            "bin_end": 10,
            "bin_start": 9.1,
            "count": 1
           }
          ],
          "max": "10",
          "min": "1",
          "nan_count": 0,
          "unique_count": 10
         }
        },
        {
         "dtype": "float64",
         "name": "sepal_length",
         "stats": {
          "histogram": [
           {
            "bin_end": 4.727931034482759,
            "bin_start": 4.6,
            "count": 1
           },
           {
            "bin_end": 4.855862068965517,
            "bin_start": 4.727931034482759,
            "count": 0
           },
           {
            "bin_end": 4.983793103448276,
            "bin_start": 4.855862068965517,
            "count": 1
           },
           {
            "bin_end": 5.111724137931035,
            "bin_start": 4.983793103448276,
            "count": 3
           },
           {
            "bin_end": 5.239655172413794,
            "bin_start": 5.111724137931035,
            "count": 0
           },
           {
            "bin_end": 5.3675862068965525,
            "bin_start": 5.239655172413794,
            "count": 0
           },
           {
            "bin_end": 5.495517241379312,
            "bin_start": 5.3675862068965525,
            "count": 0
           },
           {
            "bin_end": 5.623448275862071,
            "bin_start": 5.495517241379312,
            "count": 0
           },
           {
            "bin_end": 5.751379310344829,
            "bin_start": 5.623448275862071,
            "count": 0
           },
           {
            "bin_end": 5.879310344827588,
            "bin_start": 5.751379310344829,
            "count": 5
           }
          ],
          "max": "5.879310344827588",
          "min": "4.6",
          "nan_count": 0,
          "unique_count": 5
         }
        },
        {
         "dtype": "float64",
         "name": "sepal_width",
         "stats": {
          "histogram": [
           {
            "bin_end": 3,
            "bin_start": 2.9,
            "count": 1
           },
           {
            "bin_end": 3.1,
            "bin_start": 3,
            "count": 1
           },
           {
            "bin_end": 3.2,
            "bin_start": 3.1,
            "count": 2
           },
           {
            "bin_end": 3.3,
            "bin_start": 3.2,
            "count": 1
           },
           {
            "bin_end": 3.4,
            "bin_start": 3.3,
            "count": 0
           },
           {
            "bin_end": 3.5,
            "bin_start": 3.4,
            "count": 2
           },
           {
            "bin_end": 3.6,
            "bin_start": 3.5,
            "count": 1
           },
           {
            "bin_end": 3.7,
            "bin_start": 3.6,
            "count": 1
           },
           {
            "bin_end": 3.8,
            "bin_start": 3.7,
            "count": 0
           },
           {
            "bin_end": 3.9,
            "bin_start": 3.8,
            "count": 1
           }
          ],
          "max": "3.9",
          "min": "2.9",
          "nan_count": 0,
          "unique_count": 8
         }
        },
        {
         "dtype": "float64",
         "name": "petal_length",
         "stats": {
          "histogram": [
           {
            "bin_end": 1.34,
            "bin_start": 1.3,
            "count": 1
           },
           {
            "bin_end": 1.3800000000000001,
            "bin_start": 1.34,
            "count": 0
           },
           {
            "bin_end": 1.42,
            "bin_start": 1.3800000000000001,
            "count": 5
           },
           {
            "bin_end": 1.46,
            "bin_start": 1.42,
            "count": 0
           },
           {
            "bin_end": 1.5,
            "bin_start": 1.46,
            "count": 0
           },
           {
            "bin_end": 1.54,
            "bin_start": 1.5,
            "count": 3
           },
           {
            "bin_end": 1.58,
            "bin_start": 1.54,
            "count": 0
           },
           {
            "bin_end": 1.62,
            "bin_start": 1.58,
            "count": 0
           },
           {
            "bin_end": 1.66,
            "bin_start": 1.62,
            "count": 0
           },
           {
            "bin_end": 1.7,
            "bin_start": 1.66,
            "count": 1
           }
          ],
          "max": "1.7",
          "min": "1.3",
          "nan_count": 0,
          "unique_count": 4
         }
        },
        {
         "dtype": "float64",
         "name": "petal_width",
         "stats": {
          "histogram": [
           {
            "bin_end": 0.13,
            "bin_start": 0.1,
            "count": 1
           },
           {
            "bin_end": 0.16000000000000003,
            "bin_start": 0.13,
            "count": 0
           },
           {
            "bin_end": 0.19000000000000003,
            "bin_start": 0.16000000000000003,
            "count": 0
           },
           {
            "bin_end": 0.22000000000000003,
            "bin_start": 0.19000000000000003,
            "count": 7
           },
           {
            "bin_end": 0.25,
            "bin_start": 0.22000000000000003,
            "count": 0
           },
           {
            "bin_end": 0.28,
            "bin_start": 0.25,
            "count": 0
           },
           {
            "bin_end": 0.31000000000000005,
            "bin_start": 0.28,
            "count": 1
           },
           {
            "bin_end": 0.3400000000000001,
            "bin_start": 0.31000000000000005,
            "count": 0
           },
           {
            "bin_end": 0.3700000000000001,
            "bin_start": 0.3400000000000001,
            "count": 0
           },
           {
            "bin_end": 0.4,
            "bin_start": 0.3700000000000001,
            "count": 1
           }
          ],
          "max": "0.4",
          "min": "0.1",
          "nan_count": 0,
          "unique_count": 4
         }
        },
        {
         "dtype": "object",
         "name": "class",
         "stats": {
          "categories": [
           {
            "count": 10,
            "name": "Iris-setosa"
           }
          ],
          "nan_count": 0,
          "unique_count": 1
         }
        },
        {
         "dtype": "int64",
         "name": "_deepnote_index_column"
        }
       ],
       "row_count": 10,
       "rows": [
        {
         "_deepnote_index_column": 0,
         "class": "Iris-setosa",
         "id": 1,
         "petal_length": 1.4,
         "petal_width": 0.2,
         "sepal_length": 5.1,
         "sepal_width": 3.5
        },
        {
         "_deepnote_index_column": 1,
         "class": "Iris-setosa",
         "id": 2,
         "petal_length": 1.4,
         "petal_width": 0.2,
         "sepal_length": 5.879310344827588,
         "sepal_width": 3
        },
        {
         "_deepnote_index_column": 2,
         "class": "Iris-setosa",
         "id": 3,
         "petal_length": 1.3,
         "petal_width": 0.2,
         "sepal_length": 5.879310344827588,
         "sepal_width": 3.2
        },
        {
         "_deepnote_index_column": 3,
         "class": "Iris-setosa",
         "id": 4,
         "petal_length": 1.5,
         "petal_width": 0.2,
         "sepal_length": 5.879310344827588,
         "sepal_width": 3.1
        },
        {
         "_deepnote_index_column": 4,
         "class": "Iris-setosa",
         "id": 5,
         "petal_length": 1.4,
         "petal_width": 0.2,
         "sepal_length": 5,
         "sepal_width": 3.6
        },
        {
         "_deepnote_index_column": 5,
         "class": "Iris-setosa",
         "id": 6,
         "petal_length": 1.7,
         "petal_width": 0.4,
         "sepal_length": 5.879310344827588,
         "sepal_width": 3.9
        },
        {
         "_deepnote_index_column": 6,
         "class": "Iris-setosa",
         "id": 7,
         "petal_length": 1.4,
         "petal_width": 0.3,
         "sepal_length": 4.6,
         "sepal_width": 3.4
        },
        {
         "_deepnote_index_column": 7,
         "class": "Iris-setosa",
         "id": 8,
         "petal_length": 1.5,
         "petal_width": 0.2,
         "sepal_length": 5,
         "sepal_width": 3.4
        },
        {
         "_deepnote_index_column": 8,
         "class": "Iris-setosa",
         "id": 9,
         "petal_length": 1.4,
         "petal_width": 0.2,
         "sepal_length": 5.879310344827588,
         "sepal_width": 2.9
        },
        {
         "_deepnote_index_column": 9,
         "class": "Iris-setosa",
         "id": 10,
         "petal_length": 1.5,
         "petal_width": 0.1,
         "sepal_length": 4.9,
         "sepal_width": 3.1
        }
       ]
      },
      "text/html": [
       "<div>\n",
       "<style scoped>\n",
       "    .dataframe tbody tr th:only-of-type {\n",
       "        vertical-align: middle;\n",
       "    }\n",
       "\n",
       "    .dataframe tbody tr th {\n",
       "        vertical-align: top;\n",
       "    }\n",
       "\n",
       "    .dataframe thead th {\n",
       "        text-align: right;\n",
       "    }\n",
       "</style>\n",
       "<table border=\"1\" class=\"dataframe\">\n",
       "  <thead>\n",
       "    <tr style=\"text-align: right;\">\n",
       "      <th></th>\n",
       "      <th>id</th>\n",
       "      <th>sepal_length</th>\n",
       "      <th>sepal_width</th>\n",
       "      <th>petal_length</th>\n",
       "      <th>petal_width</th>\n",
       "      <th>class</th>\n",
       "    </tr>\n",
       "  </thead>\n",
       "  <tbody>\n",
       "    <tr>\n",
       "      <th>0</th>\n",
       "      <td>1</td>\n",
       "      <td>5.10000</td>\n",
       "      <td>3.5</td>\n",
       "      <td>1.4</td>\n",
       "      <td>0.2</td>\n",
       "      <td>Iris-setosa</td>\n",
       "    </tr>\n",
       "    <tr>\n",
       "      <th>1</th>\n",
       "      <td>2</td>\n",
       "      <td>5.87931</td>\n",
       "      <td>3.0</td>\n",
       "      <td>1.4</td>\n",
       "      <td>0.2</td>\n",
       "      <td>Iris-setosa</td>\n",
       "    </tr>\n",
       "    <tr>\n",
       "      <th>2</th>\n",
       "      <td>3</td>\n",
       "      <td>5.87931</td>\n",
       "      <td>3.2</td>\n",
       "      <td>1.3</td>\n",
       "      <td>0.2</td>\n",
       "      <td>Iris-setosa</td>\n",
       "    </tr>\n",
       "    <tr>\n",
       "      <th>3</th>\n",
       "      <td>4</td>\n",
       "      <td>5.87931</td>\n",
       "      <td>3.1</td>\n",
       "      <td>1.5</td>\n",
       "      <td>0.2</td>\n",
       "      <td>Iris-setosa</td>\n",
       "    </tr>\n",
       "    <tr>\n",
       "      <th>4</th>\n",
       "      <td>5</td>\n",
       "      <td>5.00000</td>\n",
       "      <td>3.6</td>\n",
       "      <td>1.4</td>\n",
       "      <td>0.2</td>\n",
       "      <td>Iris-setosa</td>\n",
       "    </tr>\n",
       "    <tr>\n",
       "      <th>5</th>\n",
       "      <td>6</td>\n",
       "      <td>5.87931</td>\n",
       "      <td>3.9</td>\n",
       "      <td>1.7</td>\n",
       "      <td>0.4</td>\n",
       "      <td>Iris-setosa</td>\n",
       "    </tr>\n",
       "    <tr>\n",
       "      <th>6</th>\n",
       "      <td>7</td>\n",
       "      <td>4.60000</td>\n",
       "      <td>3.4</td>\n",
       "      <td>1.4</td>\n",
       "      <td>0.3</td>\n",
       "      <td>Iris-setosa</td>\n",
       "    </tr>\n",
       "    <tr>\n",
       "      <th>7</th>\n",
       "      <td>8</td>\n",
       "      <td>5.00000</td>\n",
       "      <td>3.4</td>\n",
       "      <td>1.5</td>\n",
       "      <td>0.2</td>\n",
       "      <td>Iris-setosa</td>\n",
       "    </tr>\n",
       "    <tr>\n",
       "      <th>8</th>\n",
       "      <td>9</td>\n",
       "      <td>5.87931</td>\n",
       "      <td>2.9</td>\n",
       "      <td>1.4</td>\n",
       "      <td>0.2</td>\n",
       "      <td>Iris-setosa</td>\n",
       "    </tr>\n",
       "    <tr>\n",
       "      <th>9</th>\n",
       "      <td>10</td>\n",
       "      <td>4.90000</td>\n",
       "      <td>3.1</td>\n",
       "      <td>1.5</td>\n",
       "      <td>0.1</td>\n",
       "      <td>Iris-setosa</td>\n",
       "    </tr>\n",
       "  </tbody>\n",
       "</table>\n",
       "</div>"
      ],
      "text/plain": [
       "   id  sepal_length  sepal_width  petal_length  petal_width        class\n",
       "0   1       5.10000          3.5           1.4          0.2  Iris-setosa\n",
       "1   2       5.87931          3.0           1.4          0.2  Iris-setosa\n",
       "2   3       5.87931          3.2           1.3          0.2  Iris-setosa\n",
       "3   4       5.87931          3.1           1.5          0.2  Iris-setosa\n",
       "4   5       5.00000          3.6           1.4          0.2  Iris-setosa\n",
       "5   6       5.87931          3.9           1.7          0.4  Iris-setosa\n",
       "6   7       4.60000          3.4           1.4          0.3  Iris-setosa\n",
       "7   8       5.00000          3.4           1.5          0.2  Iris-setosa\n",
       "8   9       5.87931          2.9           1.4          0.2  Iris-setosa\n",
       "9  10       4.90000          3.1           1.5          0.1  Iris-setosa"
      ]
     },
     "execution_count": 12,
     "metadata": {},
     "output_type": "execute_result"
    }
   ],
   "source": [
    "df_2 = _deepnote_execute_sql('SELECT * FROM `defaultdb`.`iris` LIMIT 10', 'SQL_E260CBEB_4E67_484D_8D5F_FDCC9DEC71A5', audit_sql_comment='', sql_cache_mode='cache_disabled')\n",
    "df_2"
   ]
  },
  {
   "cell_type": "markdown",
   "metadata": {
    "cell_id": "489cd0b2b6284a0e819298b0906418ca",
    "deepnote_cell_type": "markdown"
   },
   "source": [
    "### Dengan KNN"
   ]
  },
  {
   "cell_type": "code",
   "execution_count": 13,
   "metadata": {
    "allow_embed": false,
    "cell_id": "26eb4715a1504abe995953988c40bfc6",
    "deepnote_cell_type": "sql",
    "deepnote_sql_source": "UPDATE irisknn AS t1\nSET\n    t1.sepal_length = (\n        SELECT AVG(sub.sepal_length)\n        FROM (\n            SELECT t2.sepal_length\n            FROM irisknn AS t2\n            WHERE t2.sepal_length IS NOT NULL\n            ORDER BY SQRT(\n                POWER(t1.sepal_length - t2.sepal_length, 2) +\n                POWER(t1.sepal_width - t2.sepal_width, 2) +\n                POWER(t1.petal_length - t2.petal_length, 2) +\n                POWER(t1.petal_width - t2.petal_width, 2)\n            ) ASC\n            LIMIT 5\n        ) AS sub\n    )\nWHERE\n    t1.sepal_length IS NULL;",
    "deepnote_to_be_reexecuted": false,
    "deepnote_variable_name": "df_4",
    "execution_millis": 3394,
    "execution_start": 1711579837331,
    "source_hash": "4b19dd98",
    "sql_integration_id": "e260cbeb-4e67-484d-8d5f-fdcc9dec71a5"
   },
   "outputs": [],
   "source": [
    "df_4 = _deepnote_execute_sql('UPDATE irisknn AS t1\\nSET\\n    t1.sepal_length = (\\n        SELECT AVG(sub.sepal_length)\\n        FROM (\\n            SELECT t2.sepal_length\\n            FROM irisknn AS t2\\n            WHERE t2.sepal_length IS NOT NULL\\n            ORDER BY SQRT(\\n                POWER(t1.sepal_length - t2.sepal_length, 2) +\\n                POWER(t1.sepal_width - t2.sepal_width, 2) +\\n                POWER(t1.petal_length - t2.petal_length, 2) +\\n                POWER(t1.petal_width - t2.petal_width, 2)\\n            ) ASC\\n            LIMIT 5\\n        ) AS sub\\n    )\\nWHERE\\n    t1.sepal_length IS NULL;', 'SQL_E260CBEB_4E67_484D_8D5F_FDCC9DEC71A5', audit_sql_comment='', sql_cache_mode='cache_disabled')\n",
    "df_4"
   ]
  },
  {
   "cell_type": "code",
   "execution_count": 14,
   "metadata": {
    "cell_id": "5d84e2a8110843cea55d17a2af6227a1",
    "deepnote_cell_type": "sql",
    "deepnote_sql_source": "SELECT * FROM `defaultdb`.`irisknn` LIMIT 10",
    "deepnote_to_be_reexecuted": false,
    "deepnote_variable_name": "df_3",
    "execution_millis": 3444,
    "execution_start": 1711579843763,
    "source_hash": "2e2a5138",
    "sql_integration_id": "e260cbeb-4e67-484d-8d5f-fdcc9dec71a5"
   },
   "outputs": [
    {
     "data": {
      "application/vnd.deepnote.sql-output-metadata+json": {
       "size_in_bytes": 1208,
       "status": "success_no_cache"
      }
     },
     "metadata": {},
     "output_type": "display_data"
    },
    {
     "data": {
      "application/vnd.deepnote.dataframe.v3+json": {
       "column_count": 6,
       "columns": [
        {
         "dtype": "int64",
         "name": "id",
         "stats": {
          "histogram": [
           {
            "bin_end": 1.9,
            "bin_start": 1,
            "count": 1
           },
           {
            "bin_end": 2.8,
            "bin_start": 1.9,
            "count": 1
           },
           {
            "bin_end": 3.7,
            "bin_start": 2.8,
            "count": 1
           },
           {
            "bin_end": 4.6,
            "bin_start": 3.7,
            "count": 1
           },
           {
            "bin_end": 5.5,
            "bin_start": 4.6,
            "count": 1
           },
           {
            "bin_end": 6.4,
            "bin_start": 5.5,
            "count": 1
           },
           {
            "bin_end": 7.3,
            "bin_start": 6.4,
            "count": 1
           },
           {
            "bin_end": 8.2,
            "bin_start": 7.3,
            "count": 1
           },
           {
            "bin_end": 9.1,
            "bin_start": 8.2,
            "count": 1
           },
           {
            "bin_end": 10,
            "bin_start": 9.1,
            "count": 1
           }
          ],
          "max": "10",
          "min": "1",
          "nan_count": 0,
          "unique_count": 10
         }
        },
        {
         "dtype": "float64",
         "name": "sepal_length",
         "stats": {
          "histogram": [
           {
            "bin_end": 4.6499999999999995,
            "bin_start": 4.6,
            "count": 1
           },
           {
            "bin_end": 4.699999999999999,
            "bin_start": 4.6499999999999995,
            "count": 0
           },
           {
            "bin_end": 4.75,
            "bin_start": 4.699999999999999,
            "count": 0
           },
           {
            "bin_end": 4.8,
            "bin_start": 4.75,
            "count": 0
           },
           {
            "bin_end": 4.85,
            "bin_start": 4.8,
            "count": 0
           },
           {
            "bin_end": 4.8999999999999995,
            "bin_start": 4.85,
            "count": 0
           },
           {
            "bin_end": 4.949999999999999,
            "bin_start": 4.8999999999999995,
            "count": 4
           },
           {
            "bin_end": 5,
            "bin_start": 4.949999999999999,
            "count": 2
           },
           {
            "bin_end": 5.05,
            "bin_start": 5,
            "count": 2
           },
           {
            "bin_end": 5.1,
            "bin_start": 5.05,
            "count": 1
           }
          ],
          "max": "5.1",
          "min": "4.6",
          "nan_count": 0,
          "unique_count": 8
         }
        },
        {
         "dtype": "float64",
         "name": "sepal_width",
         "stats": {
          "histogram": [
           {
            "bin_end": 3,
            "bin_start": 2.9,
            "count": 1
           },
           {
            "bin_end": 3.1,
            "bin_start": 3,
            "count": 1
           },
           {
            "bin_end": 3.2,
            "bin_start": 3.1,
            "count": 2
           },
           {
            "bin_end": 3.3,
            "bin_start": 3.2,
            "count": 1
           },
           {
            "bin_end": 3.4,
            "bin_start": 3.3,
            "count": 0
           },
           {
            "bin_end": 3.5,
            "bin_start": 3.4,
            "count": 2
           },
           {
            "bin_end": 3.6,
            "bin_start": 3.5,
            "count": 1
           },
           {
            "bin_end": 3.7,
            "bin_start": 3.6,
            "count": 1
           },
           {
            "bin_end": 3.8,
            "bin_start": 3.7,
            "count": 0
           },
           {
            "bin_end": 3.9,
            "bin_start": 3.8,
            "count": 1
           }
          ],
          "max": "3.9",
          "min": "2.9",
          "nan_count": 0,
          "unique_count": 8
         }
        },
        {
         "dtype": "float64",
         "name": "petal_length",
         "stats": {
          "histogram": [
           {
            "bin_end": 1.34,
            "bin_start": 1.3,
            "count": 1
           },
           {
            "bin_end": 1.3800000000000001,
            "bin_start": 1.34,
            "count": 0
           },
           {
            "bin_end": 1.42,
            "bin_start": 1.3800000000000001,
            "count": 5
           },
           {
            "bin_end": 1.46,
            "bin_start": 1.42,
            "count": 0
           },
           {
            "bin_end": 1.5,
            "bin_start": 1.46,
            "count": 0
           },
           {
            "bin_end": 1.54,
            "bin_start": 1.5,
            "count": 3
           },
           {
            "bin_end": 1.58,
            "bin_start": 1.54,
            "count": 0
           },
           {
            "bin_end": 1.62,
            "bin_start": 1.58,
            "count": 0
           },
           {
            "bin_end": 1.66,
            "bin_start": 1.62,
            "count": 0
           },
           {
            "bin_end": 1.7,
            "bin_start": 1.66,
            "count": 1
           }
          ],
          "max": "1.7",
          "min": "1.3",
          "nan_count": 0,
          "unique_count": 4
         }
        },
        {
         "dtype": "float64",
         "name": "petal_width",
         "stats": {
          "histogram": [
           {
            "bin_end": 0.13,
            "bin_start": 0.1,
            "count": 1
           },
           {
            "bin_end": 0.16000000000000003,
            "bin_start": 0.13,
            "count": 0
           },
           {
            "bin_end": 0.19000000000000003,
            "bin_start": 0.16000000000000003,
            "count": 0
           },
           {
            "bin_end": 0.22000000000000003,
            "bin_start": 0.19000000000000003,
            "count": 7
           },
           {
            "bin_end": 0.25,
            "bin_start": 0.22000000000000003,
            "count": 0
           },
           {
            "bin_end": 0.28,
            "bin_start": 0.25,
            "count": 0
           },
           {
            "bin_end": 0.31000000000000005,
            "bin_start": 0.28,
            "count": 1
           },
           {
            "bin_end": 0.3400000000000001,
            "bin_start": 0.31000000000000005,
            "count": 0
           },
           {
            "bin_end": 0.3700000000000001,
            "bin_start": 0.3400000000000001,
            "count": 0
           },
           {
            "bin_end": 0.4,
            "bin_start": 0.3700000000000001,
            "count": 1
           }
          ],
          "max": "0.4",
          "min": "0.1",
          "nan_count": 0,
          "unique_count": 4
         }
        },
        {
         "dtype": "object",
         "name": "class",
         "stats": {
          "categories": [
           {
            "count": 10,
            "name": "Iris-setosa"
           }
          ],
          "nan_count": 0,
          "unique_count": 1
         }
        },
        {
         "dtype": "int64",
         "name": "_deepnote_index_column"
        }
       ],
       "row_count": 10,
       "rows": [
        {
         "_deepnote_index_column": 0,
         "class": "Iris-setosa",
         "id": 1,
         "petal_length": 1.4,
         "petal_width": 0.2,
         "sepal_length": 5.1,
         "sepal_width": 3.5
        },
        {
         "_deepnote_index_column": 1,
         "class": "Iris-setosa",
         "id": 2,
         "petal_length": 1.4,
         "petal_width": 0.2,
         "sepal_length": 4.92,
         "sepal_width": 3
        },
        {
         "_deepnote_index_column": 2,
         "class": "Iris-setosa",
         "id": 3,
         "petal_length": 1.3,
         "petal_width": 0.2,
         "sepal_length": 4.9239999999999995,
         "sepal_width": 3.2
        },
        {
         "_deepnote_index_column": 3,
         "class": "Iris-setosa",
         "id": 4,
         "petal_length": 1.5,
         "petal_width": 0.2,
         "sepal_length": 4.908799999999999,
         "sepal_width": 3.1
        },
        {
         "_deepnote_index_column": 4,
         "class": "Iris-setosa",
         "id": 5,
         "petal_length": 1.4,
         "petal_width": 0.2,
         "sepal_length": 5,
         "sepal_width": 3.6
        },
        {
         "_deepnote_index_column": 5,
         "class": "Iris-setosa",
         "id": 6,
         "petal_length": 1.7,
         "petal_width": 0.4,
         "sepal_length": 4.97056,
         "sepal_width": 3.9
        },
        {
         "_deepnote_index_column": 6,
         "class": "Iris-setosa",
         "id": 7,
         "petal_length": 1.4,
         "petal_width": 0.3,
         "sepal_length": 4.6,
         "sepal_width": 3.4
        },
        {
         "_deepnote_index_column": 7,
         "class": "Iris-setosa",
         "id": 8,
         "petal_length": 1.5,
         "petal_width": 0.2,
         "sepal_length": 5,
         "sepal_width": 3.4
        },
        {
         "_deepnote_index_column": 8,
         "class": "Iris-setosa",
         "id": 9,
         "petal_length": 1.4,
         "petal_width": 0.2,
         "sepal_length": 4.97056,
         "sepal_width": 2.9
        },
        {
         "_deepnote_index_column": 9,
         "class": "Iris-setosa",
         "id": 10,
         "petal_length": 1.5,
         "petal_width": 0.1,
         "sepal_length": 4.9,
         "sepal_width": 3.1
        }
       ]
      },
      "text/html": [
       "<div>\n",
       "<style scoped>\n",
       "    .dataframe tbody tr th:only-of-type {\n",
       "        vertical-align: middle;\n",
       "    }\n",
       "\n",
       "    .dataframe tbody tr th {\n",
       "        vertical-align: top;\n",
       "    }\n",
       "\n",
       "    .dataframe thead th {\n",
       "        text-align: right;\n",
       "    }\n",
       "</style>\n",
       "<table border=\"1\" class=\"dataframe\">\n",
       "  <thead>\n",
       "    <tr style=\"text-align: right;\">\n",
       "      <th></th>\n",
       "      <th>id</th>\n",
       "      <th>sepal_length</th>\n",
       "      <th>sepal_width</th>\n",
       "      <th>petal_length</th>\n",
       "      <th>petal_width</th>\n",
       "      <th>class</th>\n",
       "    </tr>\n",
       "  </thead>\n",
       "  <tbody>\n",
       "    <tr>\n",
       "      <th>0</th>\n",
       "      <td>1</td>\n",
       "      <td>5.10000</td>\n",
       "      <td>3.5</td>\n",
       "      <td>1.4</td>\n",
       "      <td>0.2</td>\n",
       "      <td>Iris-setosa</td>\n",
       "    </tr>\n",
       "    <tr>\n",
       "      <th>1</th>\n",
       "      <td>2</td>\n",
       "      <td>4.92000</td>\n",
       "      <td>3.0</td>\n",
       "      <td>1.4</td>\n",
       "      <td>0.2</td>\n",
       "      <td>Iris-setosa</td>\n",
       "    </tr>\n",
       "    <tr>\n",
       "      <th>2</th>\n",
       "      <td>3</td>\n",
       "      <td>4.92400</td>\n",
       "      <td>3.2</td>\n",
       "      <td>1.3</td>\n",
       "      <td>0.2</td>\n",
       "      <td>Iris-setosa</td>\n",
       "    </tr>\n",
       "    <tr>\n",
       "      <th>3</th>\n",
       "      <td>4</td>\n",
       "      <td>4.90880</td>\n",
       "      <td>3.1</td>\n",
       "      <td>1.5</td>\n",
       "      <td>0.2</td>\n",
       "      <td>Iris-setosa</td>\n",
       "    </tr>\n",
       "    <tr>\n",
       "      <th>4</th>\n",
       "      <td>5</td>\n",
       "      <td>5.00000</td>\n",
       "      <td>3.6</td>\n",
       "      <td>1.4</td>\n",
       "      <td>0.2</td>\n",
       "      <td>Iris-setosa</td>\n",
       "    </tr>\n",
       "    <tr>\n",
       "      <th>5</th>\n",
       "      <td>6</td>\n",
       "      <td>4.97056</td>\n",
       "      <td>3.9</td>\n",
       "      <td>1.7</td>\n",
       "      <td>0.4</td>\n",
       "      <td>Iris-setosa</td>\n",
       "    </tr>\n",
       "    <tr>\n",
       "      <th>6</th>\n",
       "      <td>7</td>\n",
       "      <td>4.60000</td>\n",
       "      <td>3.4</td>\n",
       "      <td>1.4</td>\n",
       "      <td>0.3</td>\n",
       "      <td>Iris-setosa</td>\n",
       "    </tr>\n",
       "    <tr>\n",
       "      <th>7</th>\n",
       "      <td>8</td>\n",
       "      <td>5.00000</td>\n",
       "      <td>3.4</td>\n",
       "      <td>1.5</td>\n",
       "      <td>0.2</td>\n",
       "      <td>Iris-setosa</td>\n",
       "    </tr>\n",
       "    <tr>\n",
       "      <th>8</th>\n",
       "      <td>9</td>\n",
       "      <td>4.97056</td>\n",
       "      <td>2.9</td>\n",
       "      <td>1.4</td>\n",
       "      <td>0.2</td>\n",
       "      <td>Iris-setosa</td>\n",
       "    </tr>\n",
       "    <tr>\n",
       "      <th>9</th>\n",
       "      <td>10</td>\n",
       "      <td>4.90000</td>\n",
       "      <td>3.1</td>\n",
       "      <td>1.5</td>\n",
       "      <td>0.1</td>\n",
       "      <td>Iris-setosa</td>\n",
       "    </tr>\n",
       "  </tbody>\n",
       "</table>\n",
       "</div>"
      ],
      "text/plain": [
       "   id  sepal_length  sepal_width  petal_length  petal_width        class\n",
       "0   1       5.10000          3.5           1.4          0.2  Iris-setosa\n",
       "1   2       4.92000          3.0           1.4          0.2  Iris-setosa\n",
       "2   3       4.92400          3.2           1.3          0.2  Iris-setosa\n",
       "3   4       4.90880          3.1           1.5          0.2  Iris-setosa\n",
       "4   5       5.00000          3.6           1.4          0.2  Iris-setosa\n",
       "5   6       4.97056          3.9           1.7          0.4  Iris-setosa\n",
       "6   7       4.60000          3.4           1.4          0.3  Iris-setosa\n",
       "7   8       5.00000          3.4           1.5          0.2  Iris-setosa\n",
       "8   9       4.97056          2.9           1.4          0.2  Iris-setosa\n",
       "9  10       4.90000          3.1           1.5          0.1  Iris-setosa"
      ]
     },
     "execution_count": 14,
     "metadata": {},
     "output_type": "execute_result"
    }
   ],
   "source": [
    "df_3 = _deepnote_execute_sql('SELECT * FROM `defaultdb`.`irisknn` LIMIT 10', 'SQL_E260CBEB_4E67_484D_8D5F_FDCC9DEC71A5', audit_sql_comment='', sql_cache_mode='cache_disabled')\n",
    "df_3"
   ]
  },
  {
   "cell_type": "markdown",
   "metadata": {
    "cell_id": "49d0d6c028f04b8483b39ee8b3e4e876",
    "deepnote_cell_type": "markdown"
   },
   "source": [
    "# Outlier"
   ]
  },
  {
   "cell_type": "markdown",
   "metadata": {
    "cell_id": "4fd20b5ed3ea4577ac544691312ae45e",
    "deepnote_cell_type": "markdown"
   },
   "source": [
    "## Konsep Local Outlier Factor"
   ]
  },
  {
   "cell_type": "markdown",
   "metadata": {
    "cell_id": "4ab0d8a916554e79913ab08ddc51bcce",
    "deepnote_app_block_visible": false,
    "deepnote_cell_type": "markdown",
    "deepnote_to_be_reexecuted": false,
    "execution_millis": 156,
    "execution_start": 1711561072242,
    "source_hash": "d9ca9cb8"
   },
   "source": [
    "Local Outlier Factor (LOF) adalah metode yang digunakan dalam analisis data untuk mengidentifikasi observasi yang dianggap sebagai outlier berdasarkan konteks lokal atau lingkungan mereka. \n",
    "LOF memberikan skor untuk setiap data berdasarkan seberapa \"aneh\" atau tidak biasa data tersebut dibandingkan dengan tetangga-tetangganya."
   ]
  },
  {
   "cell_type": "markdown",
   "metadata": {
    "cell_id": "9167d88888744d8fb10491665fe64749",
    "deepnote_app_block_visible": false,
    "deepnote_cell_type": "markdown",
    "deepnote_to_be_reexecuted": true,
    "source_hash": "442ee7e3"
   },
   "source": [
    "Berikut adalah konsep utama dari LOF:\n",
    "\n",
    "- Local Reachability Density (LRD):\n",
    "Local Reachability Density (LRD) adalah ukuran kepadatan lokal dari sebuah data. Ini menunjukkan seberapa dekat sebuah data dengan tetangganya dalam ruang fitur. LRD didefinisikan sebagai kebalikan dari jarak rata-rata antara sebuah data dan tetangganya dalam k-NN. Semakin kecil jarak rata-rata, semakin besar LRD.\n",
    "\n",
    "- Local Outlier Factor (LOF):\n",
    "Local Outlier Factor (LOF) adalah rasio dari LRD sebuah data terhadap LRD dari tetangga-tetangganya. Ini mengukur seberapa jauh sebuah data dari tetangganya dalam hal kepadatan. Data dengan LOF yang tinggi cenderung menjadi outlier karena mereka memiliki kepadatan yang jauh lebih rendah dibandingkan dengan tetangga-tetangganya.\n",
    "\n",
    "Proses utama dalam menghitung LOF melibatkan langkah-langkah berikut:\n",
    "\n",
    "- Hitung jarak antara semua pasang data dalam ruang fitur.\n",
    "- Temukan k tetangga terdekat untuk setiap data.\n",
    "- Hitung LRD untuk setiap data dengan menghitung kebalikan dari jarak rata-rata antara data dan tetangganya.\n",
    "- Hitung LOF untuk setiap data dengan membandingkan LRD dari data dengan LRD dari tetangga-tetangganya."
   ]
  },
  {
   "cell_type": "markdown",
   "metadata": {
    "cell_id": "044d165f6031494fb7d19f2e2717db94",
    "deepnote_cell_type": "text-cell-h2",
    "formattedRanges": []
   },
   "source": [
    "## Menghitung Manual Local Outlier"
   ]
  },
  {
   "cell_type": "markdown",
   "metadata": {
    "cell_id": "2de060bdc0aa49dea49f042f359b7e2e",
    "deepnote_cell_type": "text-cell-p",
    "formattedRanges": []
   },
   "source": [
    "menghitung jarak"
   ]
  },
  {
   "cell_type": "markdown",
   "metadata": {
    "cell_id": "6a4567d46f0e49ca867652a1a9e57afc",
    "deepnote_cell_type": "image",
    "deepnote_img_src": "Screenshot 2024-03-28 034244.png"
   },
   "source": [
    "<img src=\"Screenshot 2024-03-28 034244.png\" width=\"\" align=\"\" />"
   ]
  },
  {
   "cell_type": "markdown",
   "metadata": {
    "cell_id": "95e4780efce545ae82885cd4f0ed2a4a",
    "deepnote_cell_type": "image",
    "deepnote_img_src": "Screenshot 2024-03-28 034416.png"
   },
   "source": [
    "<img src=\"Screenshot 2024-03-28 034416.png\" width=\"\" align=\"\" />"
   ]
  },
  {
   "cell_type": "markdown",
   "metadata": {
    "cell_id": "1a28f26b71994b648cea962534bc09f2",
    "deepnote_cell_type": "image",
    "deepnote_img_alignment": "left",
    "deepnote_img_src": "image-20240328-035037.png",
    "deepnote_img_width": "50%"
   },
   "source": [
    "<img src=\"image-20240328-035037.png\" width=\"50%\" align=\"left\" />"
   ]
  },
  {
   "cell_type": "markdown",
   "metadata": {
    "cell_id": "2c91078286ee4539a23c9ac5ca8a3b22",
    "deepnote_cell_type": "image",
    "deepnote_img_alignment": "left",
    "deepnote_img_src": "image-20240328-042247.png"
   },
   "source": [
    "<img src=\"image-20240328-042247.png\" width=\"\" align=\"left\" />"
   ]
  },
  {
   "cell_type": "markdown",
   "metadata": {
    "cell_id": "d64a7fd565d843e79e7945e74ddf24be",
    "deepnote_cell_type": "image",
    "deepnote_img_alignment": "left",
    "deepnote_img_src": "image-20240328-043951.png",
    "deepnote_img_width": "50%"
   },
   "source": [
    "<img src=\"image-20240328-043951.png\" width=\"50%\" align=\"left\" />"
   ]
  },
  {
   "cell_type": "markdown",
   "metadata": {
    "cell_id": "bace8820194d4ae89798713297b2d24e",
    "deepnote_cell_type": "image",
    "deepnote_img_alignment": "left",
    "deepnote_img_src": "image-20240328-052612.png"
   },
   "source": [
    "<img src=\"image-20240328-052612.png\" width=\"\" align=\"left\" />"
   ]
  },
  {
   "cell_type": "markdown",
   "metadata": {
    "cell_id": "4dc0875104ea432bb6e956ac0c0305b0",
    "deepnote_cell_type": "image",
    "deepnote_img_alignment": "left",
    "deepnote_img_src": "image-20240328-050421.png",
    "deepnote_img_width": "50%"
   },
   "source": [
    "<img src=\"image-20240328-050421.png\" width=\"50%\" align=\"left\" />"
   ]
  },
  {
   "cell_type": "markdown",
   "metadata": {
    "cell_id": "d604a88b87c84b388eda9330d7273d46",
    "deepnote_cell_type": "image",
    "deepnote_img_alignment": "left",
    "deepnote_img_src": "image-20240328-055833.png"
   },
   "source": [
    "<img src=\"image-20240328-055833.png\" width=\"\" align=\"left\" />"
   ]
  },
  {
   "cell_type": "markdown",
   "metadata": {
    "cell_id": "9fc37080cece416a9de2cf0697b91f0c",
    "deepnote_app_block_visible": false,
    "deepnote_cell_type": "markdown",
    "deepnote_to_be_reexecuted": true,
    "source_hash": "b623e53d"
   },
   "source": [
    "## Menghitung Menggunakan Python (sckit-learn)"
   ]
  },
  {
   "cell_type": "code",
   "execution_count": null,
   "metadata": {
    "cell_id": "f0a946336c40414a804afe3c5adfc093",
    "deepnote_cell_type": "code",
    "deepnote_to_be_reexecuted": false,
    "execution_millis": 399,
    "execution_start": 1711577097603,
    "source_hash": null
   },
   "outputs": [
    {
     "name": "stdout",
     "output_type": "stream",
     "text": [
      "Predicted table: [ 1  1  1  1  1  1  1  1 -1  1]\n",
      "Negative LOF scores: [0.95045869 0.95045869 1.02204263 1.03124204 1.0219927  1.08205925\n",
      " 0.89245404 1.03588377 6.67809386 1.08895707]\n"
     ]
    }
   ],
   "source": [
    "from sklearn.neighbors import LocalOutlierFactor\n",
    "import numpy as np\n",
    "\n",
    "X = [\n",
    "    (0, 2, 2),\n",
    "    (1, 1, 3),\n",
    "    (2, 1, 1),\n",
    "    (3, 3, 2),\n",
    "    (1, 5, 3),\n",
    "    (1, 4, 4),\n",
    "    (1, 2, 4),\n",
    "    (1, 3, 4),\n",
    "    (12, 12, 12),\n",
    "    (2, 2, 2),\n",
    "]\n",
    "\n",
    "lof = LocalOutlierFactor(n_neighbors=3, contamination=0.1)\n",
    "y_pred = lof.fit_predict(X)\n",
    "\n",
    "print(\"Predicted table:\", y_pred)\n",
    "print(\"Negative LOF scores:\", -lof.negative_outlier_factor_) "
   ]
  },
  {
   "cell_type": "markdown",
   "metadata": {
    "cell_id": "5de9f98e608e48b09604e60573a15821",
    "deepnote_cell_type": "text-cell-h2",
    "formattedRanges": []
   },
   "source": [
    "## Implementasi pada dataset Iris"
   ]
  },
  {
   "cell_type": "markdown",
   "metadata": {
    "cell_id": "c7e05e1cfdbd4c0885aa43df5d567df5",
    "deepnote_app_block_visible": false,
    "deepnote_cell_type": "markdown"
   },
   "source": [
    "menambahkan beberapa outlier"
   ]
  },
  {
   "cell_type": "code",
   "execution_count": 32,
   "metadata": {
    "cell_id": "f469506858f54233b13e0ad44bbf6fcc",
    "deepnote_cell_type": "sql",
    "deepnote_sql_source": "UPDATE irisoutlier SET sepal_length = 11 WHERE Id IN (4, 8, 12, 1, 5)\n",
    "deepnote_to_be_reexecuted": false,
    "deepnote_variable_name": "df_6",
    "execution_millis": 3558,
    "execution_start": 1711582538101,
    "source_hash": "3e91560a",
    "sql_integration_id": "e260cbeb-4e67-484d-8d5f-fdcc9dec71a5"
   },
   "outputs": [],
   "source": [
    "df_6 = _deepnote_execute_sql('UPDATE irisoutlier SET sepal_length = 11 WHERE Id IN (4, 8, 12, 1, 5)\\n', 'SQL_E260CBEB_4E67_484D_8D5F_FDCC9DEC71A5', audit_sql_comment='', sql_cache_mode='cache_disabled')\n",
    "df_6"
   ]
  },
  {
   "cell_type": "code",
   "execution_count": 33,
   "metadata": {
    "allow_embed": false,
    "cell_id": "ed3aca2447214b36841747a1344f5476",
    "deepnote_cell_type": "sql",
    "deepnote_sql_source": "UPDATE irisoutlier SET sepal_width = 12 WHERE Id IN (4, 8,11, 12)\n",
    "deepnote_to_be_reexecuted": false,
    "deepnote_variable_name": "df_7",
    "execution_millis": 3406,
    "execution_start": 1711582541685,
    "source_hash": "69cd5c3a",
    "sql_integration_id": "e260cbeb-4e67-484d-8d5f-fdcc9dec71a5"
   },
   "outputs": [],
   "source": [
    "df_7 = _deepnote_execute_sql('UPDATE irisoutlier SET sepal_width = 12 WHERE Id IN (4, 8,11, 12)\\n', 'SQL_E260CBEB_4E67_484D_8D5F_FDCC9DEC71A5', audit_sql_comment='', sql_cache_mode='cache_disabled')\n",
    "df_7"
   ]
  },
  {
   "cell_type": "code",
   "execution_count": 34,
   "metadata": {
    "cell_id": "c72e5716629944c192dc3980fb6c58a6",
    "deepnote_cell_type": "sql",
    "deepnote_sql_source": "SELECT * FROM `defaultdb`.`irisoutlier` LIMIT 100",
    "deepnote_table_loading": false,
    "deepnote_table_state": {
     "filters": [],
     "pageIndex": 0,
     "pageSize": 10,
     "sortBy": []
    },
    "deepnote_to_be_reexecuted": false,
    "deepnote_variable_name": "df_8",
    "execution_millis": 3580,
    "execution_start": 1711582548222,
    "source_hash": "da4cab6",
    "sql_integration_id": "e260cbeb-4e67-484d-8d5f-fdcc9dec71a5"
   },
   "outputs": [
    {
     "data": {
      "application/vnd.deepnote.sql-output-metadata+json": {
       "size_in_bytes": 11128,
       "status": "success_no_cache"
      }
     },
     "metadata": {},
     "output_type": "display_data"
    },
    {
     "data": {
      "application/vnd.deepnote.dataframe.v3+json": {
       "column_count": 6,
       "columns": [
        {
         "dtype": "int64",
         "name": "id",
         "stats": {
          "histogram": [
           {
            "bin_end": 10.9,
            "bin_start": 1,
            "count": 10
           },
           {
            "bin_end": 20.8,
            "bin_start": 10.9,
            "count": 10
           },
           {
            "bin_end": 30.700000000000003,
            "bin_start": 20.8,
            "count": 10
           },
           {
            "bin_end": 40.6,
            "bin_start": 30.700000000000003,
            "count": 10
           },
           {
            "bin_end": 50.5,
            "bin_start": 40.6,
            "count": 10
           },
           {
            "bin_end": 60.400000000000006,
            "bin_start": 50.5,
            "count": 10
           },
           {
            "bin_end": 70.3,
            "bin_start": 60.400000000000006,
            "count": 10
           },
           {
            "bin_end": 80.2,
            "bin_start": 70.3,
            "count": 10
           },
           {
            "bin_end": 90.10000000000001,
            "bin_start": 80.2,
            "count": 10
           },
           {
            "bin_end": 100,
            "bin_start": 90.10000000000001,
            "count": 10
           }
          ],
          "max": "100",
          "min": "1",
          "nan_count": 0,
          "unique_count": 100
         }
        },
        {
         "dtype": "float64",
         "name": "sepal_length",
         "stats": {
          "histogram": [
           {
            "bin_end": 4.97,
            "bin_start": 4.3,
            "count": 19
           },
           {
            "bin_end": 5.64,
            "bin_start": 4.97,
            "count": 39
           },
           {
            "bin_end": 6.3100000000000005,
            "bin_start": 5.64,
            "count": 26
           },
           {
            "bin_end": 6.98,
            "bin_start": 6.3100000000000005,
            "count": 10
           },
           {
            "bin_end": 7.65,
            "bin_start": 6.98,
            "count": 1
           },
           {
            "bin_end": 8.32,
            "bin_start": 7.65,
            "count": 0
           },
           {
            "bin_end": 8.99,
            "bin_start": 8.32,
            "count": 0
           },
           {
            "bin_end": 9.66,
            "bin_start": 8.99,
            "count": 0
           },
           {
            "bin_end": 10.33,
            "bin_start": 9.66,
            "count": 0
           },
           {
            "bin_end": 11,
            "bin_start": 10.33,
            "count": 5
           }
          ],
          "max": "11.0",
          "min": "4.3",
          "nan_count": 0,
          "unique_count": 29
         }
        },
        {
         "dtype": "float64",
         "name": "sepal_width",
         "stats": {
          "histogram": [
           {
            "bin_end": 3,
            "bin_start": 2,
            "count": 36
           },
           {
            "bin_end": 4,
            "bin_start": 3,
            "count": 55
           },
           {
            "bin_end": 5,
            "bin_start": 4,
            "count": 5
           },
           {
            "bin_end": 6,
            "bin_start": 5,
            "count": 0
           },
           {
            "bin_end": 7,
            "bin_start": 6,
            "count": 0
           },
           {
            "bin_end": 8,
            "bin_start": 7,
            "count": 0
           },
           {
            "bin_end": 9,
            "bin_start": 8,
            "count": 0
           },
           {
            "bin_end": 10,
            "bin_start": 9,
            "count": 0
           },
           {
            "bin_end": 11,
            "bin_start": 10,
            "count": 0
           },
           {
            "bin_end": 12,
            "bin_start": 11,
            "count": 4
           }
          ],
          "max": "12.0",
          "min": "2.0",
          "nan_count": 0,
          "unique_count": 24
         }
        },
        {
         "dtype": "float64",
         "name": "petal_length",
         "stats": {
          "histogram": [
           {
            "bin_end": 1.6,
            "bin_start": 1,
            "count": 36
           },
           {
            "bin_end": 2.2,
            "bin_start": 1.6,
            "count": 13
           },
           {
            "bin_end": 2.8,
            "bin_start": 2.2,
            "count": 0
           },
           {
            "bin_end": 3.4,
            "bin_start": 2.8,
            "count": 3
           },
           {
            "bin_end": 4,
            "bin_start": 3.4,
            "count": 8
           },
           {
            "bin_end": 4.6,
            "bin_start": 4,
            "count": 25
           },
           {
            "bin_end": 5.2,
            "bin_start": 4.6,
            "count": 14
           },
           {
            "bin_end": 5.8,
            "bin_start": 5.2,
            "count": 0
           },
           {
            "bin_end": 6.3999999999999995,
            "bin_start": 5.8,
            "count": 0
           },
           {
            "bin_end": 7,
            "bin_start": 6.3999999999999995,
            "count": 1
           }
          ],
          "max": "7.0",
          "min": "1.0",
          "nan_count": 0,
          "unique_count": 29
         }
        },
        {
         "dtype": "float64",
         "name": "petal_width",
         "stats": {
          "histogram": [
           {
            "bin_end": 0.33999999999999997,
            "bin_start": 0.1,
            "count": 40
           },
           {
            "bin_end": 0.58,
            "bin_start": 0.33999999999999997,
            "count": 8
           },
           {
            "bin_end": 0.82,
            "bin_start": 0.58,
            "count": 1
           },
           {
            "bin_end": 1.06,
            "bin_start": 0.82,
            "count": 7
           },
           {
            "bin_end": 1.3,
            "bin_start": 1.06,
            "count": 8
           },
           {
            "bin_end": 1.54,
            "bin_start": 1.3,
            "count": 30
           },
           {
            "bin_end": 1.78,
            "bin_start": 1.54,
            "count": 4
           },
           {
            "bin_end": 2.02,
            "bin_start": 1.78,
            "count": 1
           },
           {
            "bin_end": 2.2600000000000002,
            "bin_start": 2.02,
            "count": 0
           },
           {
            "bin_end": 2.5,
            "bin_start": 2.2600000000000002,
            "count": 1
           }
          ],
          "max": "2.5",
          "min": "0.1",
          "nan_count": 0,
          "unique_count": 16
         }
        },
        {
         "dtype": "object",
         "name": "class",
         "stats": {
          "categories": [
           {
            "count": 50,
            "name": "Iris-setosa"
           },
           {
            "count": 50,
            "name": "Iris-versicolor"
           }
          ],
          "nan_count": 0,
          "unique_count": 2
         }
        },
        {
         "dtype": "int64",
         "name": "_deepnote_index_column"
        }
       ],
       "row_count": 100,
       "rows": [
        {
         "_deepnote_index_column": 0,
         "class": "Iris-setosa",
         "id": 1,
         "petal_length": 7,
         "petal_width": 2.5,
         "sepal_length": 11,
         "sepal_width": 4
        },
        {
         "_deepnote_index_column": 1,
         "class": "Iris-setosa",
         "id": 2,
         "petal_length": 1.4,
         "petal_width": 0.2,
         "sepal_length": 4.9,
         "sepal_width": 3
        },
        {
         "_deepnote_index_column": 2,
         "class": "Iris-setosa",
         "id": 3,
         "petal_length": 1.3,
         "petal_width": 0.2,
         "sepal_length": 4.7,
         "sepal_width": 3.2
        },
        {
         "_deepnote_index_column": 3,
         "class": "Iris-setosa",
         "id": 4,
         "petal_length": 1.5,
         "petal_width": 0.2,
         "sepal_length": 11,
         "sepal_width": 12
        },
        {
         "_deepnote_index_column": 4,
         "class": "Iris-setosa",
         "id": 5,
         "petal_length": 1.4,
         "petal_width": 0.2,
         "sepal_length": 11,
         "sepal_width": 3.6
        },
        {
         "_deepnote_index_column": 5,
         "class": "Iris-setosa",
         "id": 6,
         "petal_length": 1.7,
         "petal_width": 0.4,
         "sepal_length": 5.4,
         "sepal_width": 3.9
        },
        {
         "_deepnote_index_column": 6,
         "class": "Iris-setosa",
         "id": 7,
         "petal_length": 1.4,
         "petal_width": 0.3,
         "sepal_length": 4.6,
         "sepal_width": 3.4
        },
        {
         "_deepnote_index_column": 7,
         "class": "Iris-setosa",
         "id": 8,
         "petal_length": 1.5,
         "petal_width": 0.2,
         "sepal_length": 11,
         "sepal_width": 12
        },
        {
         "_deepnote_index_column": 8,
         "class": "Iris-setosa",
         "id": 9,
         "petal_length": 1.4,
         "petal_width": 0.2,
         "sepal_length": 4.4,
         "sepal_width": 2.9
        },
        {
         "_deepnote_index_column": 9,
         "class": "Iris-setosa",
         "id": 10,
         "petal_length": 1.5,
         "petal_width": 0.1,
         "sepal_length": 4.9,
         "sepal_width": 3.1
        }
       ]
      },
      "text/html": [
       "<div>\n",
       "<style scoped>\n",
       "    .dataframe tbody tr th:only-of-type {\n",
       "        vertical-align: middle;\n",
       "    }\n",
       "\n",
       "    .dataframe tbody tr th {\n",
       "        vertical-align: top;\n",
       "    }\n",
       "\n",
       "    .dataframe thead th {\n",
       "        text-align: right;\n",
       "    }\n",
       "</style>\n",
       "<table border=\"1\" class=\"dataframe\">\n",
       "  <thead>\n",
       "    <tr style=\"text-align: right;\">\n",
       "      <th></th>\n",
       "      <th>id</th>\n",
       "      <th>sepal_length</th>\n",
       "      <th>sepal_width</th>\n",
       "      <th>petal_length</th>\n",
       "      <th>petal_width</th>\n",
       "      <th>class</th>\n",
       "    </tr>\n",
       "  </thead>\n",
       "  <tbody>\n",
       "    <tr>\n",
       "      <th>0</th>\n",
       "      <td>1</td>\n",
       "      <td>11.0</td>\n",
       "      <td>4.0</td>\n",
       "      <td>7.0</td>\n",
       "      <td>2.5</td>\n",
       "      <td>Iris-setosa</td>\n",
       "    </tr>\n",
       "    <tr>\n",
       "      <th>1</th>\n",
       "      <td>2</td>\n",
       "      <td>4.9</td>\n",
       "      <td>3.0</td>\n",
       "      <td>1.4</td>\n",
       "      <td>0.2</td>\n",
       "      <td>Iris-setosa</td>\n",
       "    </tr>\n",
       "    <tr>\n",
       "      <th>2</th>\n",
       "      <td>3</td>\n",
       "      <td>4.7</td>\n",
       "      <td>3.2</td>\n",
       "      <td>1.3</td>\n",
       "      <td>0.2</td>\n",
       "      <td>Iris-setosa</td>\n",
       "    </tr>\n",
       "    <tr>\n",
       "      <th>3</th>\n",
       "      <td>4</td>\n",
       "      <td>11.0</td>\n",
       "      <td>12.0</td>\n",
       "      <td>1.5</td>\n",
       "      <td>0.2</td>\n",
       "      <td>Iris-setosa</td>\n",
       "    </tr>\n",
       "    <tr>\n",
       "      <th>4</th>\n",
       "      <td>5</td>\n",
       "      <td>11.0</td>\n",
       "      <td>3.6</td>\n",
       "      <td>1.4</td>\n",
       "      <td>0.2</td>\n",
       "      <td>Iris-setosa</td>\n",
       "    </tr>\n",
       "    <tr>\n",
       "      <th>...</th>\n",
       "      <td>...</td>\n",
       "      <td>...</td>\n",
       "      <td>...</td>\n",
       "      <td>...</td>\n",
       "      <td>...</td>\n",
       "      <td>...</td>\n",
       "    </tr>\n",
       "    <tr>\n",
       "      <th>95</th>\n",
       "      <td>96</td>\n",
       "      <td>5.7</td>\n",
       "      <td>3.0</td>\n",
       "      <td>4.2</td>\n",
       "      <td>1.2</td>\n",
       "      <td>Iris-versicolor</td>\n",
       "    </tr>\n",
       "    <tr>\n",
       "      <th>96</th>\n",
       "      <td>97</td>\n",
       "      <td>5.7</td>\n",
       "      <td>2.9</td>\n",
       "      <td>4.2</td>\n",
       "      <td>1.3</td>\n",
       "      <td>Iris-versicolor</td>\n",
       "    </tr>\n",
       "    <tr>\n",
       "      <th>97</th>\n",
       "      <td>98</td>\n",
       "      <td>6.2</td>\n",
       "      <td>2.9</td>\n",
       "      <td>4.3</td>\n",
       "      <td>1.3</td>\n",
       "      <td>Iris-versicolor</td>\n",
       "    </tr>\n",
       "    <tr>\n",
       "      <th>98</th>\n",
       "      <td>99</td>\n",
       "      <td>5.1</td>\n",
       "      <td>2.5</td>\n",
       "      <td>3.0</td>\n",
       "      <td>1.1</td>\n",
       "      <td>Iris-versicolor</td>\n",
       "    </tr>\n",
       "    <tr>\n",
       "      <th>99</th>\n",
       "      <td>100</td>\n",
       "      <td>5.7</td>\n",
       "      <td>2.8</td>\n",
       "      <td>4.1</td>\n",
       "      <td>1.3</td>\n",
       "      <td>Iris-versicolor</td>\n",
       "    </tr>\n",
       "  </tbody>\n",
       "</table>\n",
       "<p>100 rows × 6 columns</p>\n",
       "</div>"
      ],
      "text/plain": [
       "     id  sepal_length  sepal_width  petal_length  petal_width            class\n",
       "0     1          11.0          4.0           7.0          2.5      Iris-setosa\n",
       "1     2           4.9          3.0           1.4          0.2      Iris-setosa\n",
       "2     3           4.7          3.2           1.3          0.2      Iris-setosa\n",
       "3     4          11.0         12.0           1.5          0.2      Iris-setosa\n",
       "4     5          11.0          3.6           1.4          0.2      Iris-setosa\n",
       "..  ...           ...          ...           ...          ...              ...\n",
       "95   96           5.7          3.0           4.2          1.2  Iris-versicolor\n",
       "96   97           5.7          2.9           4.2          1.3  Iris-versicolor\n",
       "97   98           6.2          2.9           4.3          1.3  Iris-versicolor\n",
       "98   99           5.1          2.5           3.0          1.1  Iris-versicolor\n",
       "99  100           5.7          2.8           4.1          1.3  Iris-versicolor\n",
       "\n",
       "[100 rows x 6 columns]"
      ]
     },
     "execution_count": 34,
     "metadata": {},
     "output_type": "execute_result"
    }
   ],
   "source": [
    "df_8 = _deepnote_execute_sql('SELECT * FROM `defaultdb`.`irisoutlier` LIMIT 100', 'SQL_E260CBEB_4E67_484D_8D5F_FDCC9DEC71A5', audit_sql_comment='', sql_cache_mode='cache_disabled')\n",
    "df_8"
   ]
  },
  {
   "cell_type": "code",
   "execution_count": 35,
   "metadata": {
    "cell_id": "c5cdc15153c84ad095c4caea3c09cbca",
    "deepnote_cell_type": "code",
    "deepnote_to_be_reexecuted": false,
    "execution_millis": 2186,
    "execution_start": 1711582556636,
    "source_hash": "ccd69228"
   },
   "outputs": [
    {
     "data": {
      "image/png": "[encoded data removed]",
      "text/plain": [
       "<Figure size 640x480 with 1 Axes>"
      ]
     },
     "metadata": {
      "image/png": {
       "height": 413,
       "width": 543
      }
     },
     "output_type": "display_data"
    }
   ],
   "source": [
    "import mysql.connector\n",
    "from sklearn.neighbors import LocalOutlierFactor\n",
    "import matplotlib.pyplot as plt\n",
    "\n",
    "# Informasi koneksi ke database MySQL\n",
    "hostname = 'mysql-b8e8705-nico22101.a.aivencloud.com'\n",
    "port = 15404\n",
    "username = 'avnadmin'\n",
    "password = 'AVNS_1WxvRGymUGjuW0Z29gd'\n",
    "database = 'defaultdb'\n",
    "\n",
    "conn = mysql.connector.connect(\n",
    "    host=hostname,\n",
    "    port=port,\n",
    "    user=username,\n",
    "    password=password,\n",
    "    database=database\n",
    ")\n",
    "\n",
    "# Membaca data dari database\n",
    "query = \"SELECT sepal_length, sepal_width FROM irisoutlier\"\n",
    "cursor = conn.cursor()\n",
    "cursor.execute(query)\n",
    "rows = cursor.fetchall()\n",
    "x = [[row[0], row[1]] for row in rows]\n",
    "\n",
    "# Menutup koneksi ke database\n",
    "conn.close()\n",
    "\n",
    "# Membuat model LOF\n",
    "lof = LocalOutlierFactor(n_neighbors=13, contamination=0.03)\n",
    "\n",
    "# Melakukan prediksi outlier\n",
    "y_pred = lof.fit_predict(x)\n",
    "\n",
    "# Menampilkan data dengan outlier yang diidentifikasi\n",
    "outlier_indices = [i for i, label in enumerate(y_pred) if label == -1]\n",
    "outlier_values = [x[i] for i in outlier_indices]\n",
    "\n",
    "plt.scatter([point[0] for point in x], [point[1] for point in x])\n",
    "plt.scatter([point[0] for point in outlier_values], [point[1] for point in outlier_values], color='r')\n",
    "plt.show()\n"
   ]
  },
  {
   "cell_type": "markdown",
   "metadata": {
    "cell_id": "0a0f8406356f4013b995aad1c126ee20",
    "deepnote_app_block_visible": false,
    "deepnote_cell_type": "markdown"
   },
   "source": [
    "titik merah adalah outlier"
   ]
  },
  {
   "cell_type": "markdown",
   "metadata": {
    "cell_id": "065941c6162f4014a85f839e5dd2593f",
    "deepnote_cell_type": "markdown"
   },
   "source": [
    "# Integrasi 2 sumber"
   ]
  },
  {
   "cell_type": "markdown",
   "metadata": {
    "cell_id": "64c42648983c408ba7ac4b1d7aa9f1a7",
    "deepnote_cell_type": "text-cell-p",
    "formattedRanges": []
   },
   "source": [
    "install psycopg2 terlebih dahulu"
   ]
  },
  {
   "cell_type": "code",
   "execution_count": 18,
   "metadata": {
    "cell_id": "8474582867ad4192a73ddf38663159d6",
    "deepnote_cell_type": "code",
    "deepnote_to_be_reexecuted": false,
    "execution_millis": 3158,
    "execution_start": 1711580139211,
    "source_hash": "795e7d70"
   },
   "outputs": [
    {
     "name": "stdout",
     "output_type": "stream",
     "text": [
      "Requirement already satisfied: psycopg2-binary in /shared-libs/python3.9/py/lib/python3.9/site-packages (2.9.4)\n",
      "\u001b[33mWARNING: Running pip as the 'root' user can result in broken permissions and conflicting behaviour with the system package manager. It is recommended to use a virtual environment instead: https://pip.pypa.io/warnings/venv\u001b[0m\u001b[33m\n",
      "\u001b[0m\n",
      "\u001b[1m[\u001b[0m\u001b[34;49mnotice\u001b[0m\u001b[1;39;49m]\u001b[0m\u001b[39;49m A new release of pip is available: \u001b[0m\u001b[31;49m23.0.1\u001b[0m\u001b[39;49m -> \u001b[0m\u001b[32;49m24.0\u001b[0m\n",
      "\u001b[1m[\u001b[0m\u001b[34;49mnotice\u001b[0m\u001b[1;39;49m]\u001b[0m\u001b[39;49m To update, run: \u001b[0m\u001b[32;49mpython -m pip install --upgrade pip\u001b[0m\n",
      "Note: you may need to restart the kernel to use updated packages.\n"
     ]
    }
   ],
   "source": [
    "pip install psycopg2-binary\n"
   ]
  },
  {
   "cell_type": "code",
   "execution_count": 16,
   "metadata": {
    "cell_id": "9dc1352b8e274895be475eee9b300fe3",
    "deepnote_cell_type": "code",
    "deepnote_to_be_reexecuted": false,
    "execution_millis": 3735,
    "execution_start": 1711579883863,
    "source_hash": "d6174258"
   },
   "outputs": [
    {
     "name": "stderr",
     "output_type": "stream",
     "text": [
      "/tmp/ipykernel_80/1956194530.py:18: UserWarning: pandas only supports SQLAlchemy connectable (engine/connection) or database string URI or sqlite3 DBAPI2 connection. Other DBAPI2 objects are not tested. Please consider using SQLAlchemy.\n",
      "  mysql_df = pd.read_sql(mysql_query, mysql_conn)\n",
      "/tmp/ipykernel_80/1956194530.py:33: UserWarning: pandas only supports SQLAlchemy connectable (engine/connection) or database string URI or sqlite3 DBAPI2 connection. Other DBAPI2 objects are not tested. Please consider using SQLAlchemy.\n",
      "  postgres_df = pd.read_sql(postgres_query, postgres_conn)\n",
      "      id  sepal_length  sepal_width  petal_length  petal_width           class\n",
      "0      1           5.1          3.5           1.4          0.2     Iris-setosa\n",
      "1      2           4.9          3.0           1.4          0.2     Iris-setosa\n",
      "2      3           4.7          3.2           1.3          0.2     Iris-setosa\n",
      "3      4           4.6          3.1           1.5          0.2     Iris-setosa\n",
      "4      5           5.0          3.6           1.4          0.2     Iris-setosa\n",
      "..   ...           ...          ...           ...          ...             ...\n",
      "145  146           6.7          3.0           5.2          2.3  Iris-virginica\n",
      "146  147           6.3          2.5           5.0          1.9  Iris-virginica\n",
      "147  148           6.5          3.0           5.2          2.0  Iris-virginica\n",
      "148  149           6.2          3.4           5.4          2.3  Iris-virginica\n",
      "149  150           5.9          3.0           5.1          1.8  Iris-virginica\n",
      "\n",
      "[150 rows x 6 columns]\n"
     ]
    }
   ],
   "source": [
    "import pandas as pd\n",
    "import psycopg2\n",
    "import mysql.connector\n",
    "\n",
    "# Koneksi ke MySQL\n",
    "mysql_conn = mysql.connector.connect(\n",
    "    host=\"mysql-b8e8705-nico22101.a.aivencloud.com\",\n",
    "    port = 15404,\n",
    "    user=\"avnadmin\",\n",
    "    password=\"AVNS_1WxvRGymUGjuW0Z29gd\",\n",
    "    database=\"defaultdb\"\n",
    ")\n",
    "\n",
    "# Query untuk mengambil data dari MySQL\n",
    "mysql_query = \"SELECT id, sepal_length, sepal_width FROM iriscopy;\"\n",
    "\n",
    "# Mengambil data dari MySQL ke DataFrame\n",
    "mysql_df = pd.read_sql(mysql_query, mysql_conn)\n",
    "\n",
    "# Koneksi ke PostgreSQL\n",
    "postgres_conn = psycopg2.connect(\n",
    "    host=\"postgresql-nico22101.a.aivencloud.com\",\n",
    "    port = 15404,\n",
    "    database=\"defaultdb\",\n",
    "    user=\"avnadmin\",\n",
    "    password=\"AVNS_7FSfVpq4Jofis8WGzve\"\n",
    ")\n",
    "\n",
    "# Query untuk mengambil data dari PostgreSQL\n",
    "postgres_query = \"SELECT petal_length, petal_width, class FROM iris;\"\n",
    "\n",
    "# Mengambil data dari PostgreSQL ke DataFrame\n",
    "postgres_df = pd.read_sql(postgres_query, postgres_conn)\n",
    "\n",
    "# Gabungkan kedua DataFrame berdasarkan index\n",
    "merged_df = pd.merge(mysql_df, postgres_df, left_index=True, right_index=True)\n",
    "\n",
    "# Tampilkan DataFrame yang telah digabung\n",
    "print(merged_df)\n"
   ]
  },
  {
   "cell_type": "markdown",
   "metadata": {
    "cell_id": "4a123be2b93b4cbdba7d72a6f177aa53",
    "deepnote_cell_type": "text-cell-p",
    "formattedRanges": []
   },
   "source": [
    "id, sepal_length, dan sepal_width diambil dari mysql, sedangkan petal_length, petal_width, dan class diambil dari postgre"
   ]
  },
  {
   "cell_type": "markdown",
   "metadata": {
    "created_in_deepnote_cell": true,
    "deepnote_cell_type": "markdown"
   },
   "source": [
    "<a style='text-decoration:none;line-height:16px;display:flex;color:#5B5B62;padding:10px;justify-content:end;' href='https://deepnote.com?utm_source=created-in-deepnote-cell&projectId=ce5bb5da-f005-4a0b-8114-37accbca2d46' target=\"_blank\">\n",
    "<img alt='Created in deepnote.com' style='display:inline;max-height:16px;margin:0px;margin-right:7.5px;' src='data:image/svg+xml;base64,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' > </img>\n",
    "Created in <span style='font-weight:600;margin-left:4px;'>Deepnote</span></a>"
   ]
  }
 ],
 "metadata": {
  "deepnote_execution_queue": [],
  "deepnote_notebook_id": "40072f92091244b495a952e76c495bb5",
  "kernelspec": {
   "display_name": "Python 3 (ipykernel)",
   "language": "python",
   "name": "python3"
  },
  "language_info": {
   "codemirror_mode": {
    "name": "ipython",
    "version": 3
   },
   "file_extension": ".py",
   "mimetype": "text/x-python",
   "name": "python",
   "nbconvert_exporter": "python",
   "pygments_lexer": "ipython3",
   "version": "3.11.7"
  }
 },
 "nbformat": 4,
 "nbformat_minor": 4
}
